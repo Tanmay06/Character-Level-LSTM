{
  "nbformat": 4,
  "nbformat_minor": 0,
  "metadata": {
    "colab": {
      "name": "Generating_sonnets_using_LSTM.ipynb",
      "version": "0.3.2",
      "provenance": [],
      "collapsed_sections": []
    },
    "kernelspec": {
      "name": "python3",
      "display_name": "Python 3"
    },
    "accelerator": "GPU"
  },
  "cells": [
    {
      "metadata": {
        "id": "jdm0W0yol52F",
        "colab_type": "text"
      },
      "cell_type": "markdown",
      "source": [
        "<h1> LSTM to generate Shakespearean Sonnet</h1>\n",
        "\n",
        "This implemetation of LSTM is based on what I learnt from Udacity Deep Learning with PyTorch course. While in the course we generated text from Anna Karenina, here I have leveraged LSTM to generate sonnet based on Shakespeare's style. To achieve this we will train the LSTM model with Shakespeare's Sonnets, the model will eventually learn his style and will be able to predict the next character of the text with current character as input to the it. "
      ]
    },
    {
      "metadata": {
        "id": "PIvG0TEZNjMa",
        "colab_type": "code",
        "colab": {}
      },
      "cell_type": "code",
      "source": [
        "#importing required libraries \n",
        "import torch\n",
        "from torch import nn\n",
        "import numpy as np"
      ],
      "execution_count": 0,
      "outputs": []
    },
    {
      "metadata": {
        "id": "_-9B4p_0pV2j",
        "colab_type": "text"
      },
      "cell_type": "markdown",
      "source": [
        "<h2>Pre-processing Data</h2>\n",
        "\n",
        "The file, <i>sonnets.txt</i>, contains all of 154 sonnets composed by Shakespeare. There are roughly 94k characters in the file for us to work with."
      ]
    },
    {
      "metadata": {
        "id": "fOJNQ-UZQiPe",
        "colab_type": "code",
        "outputId": "abeda4c4-ac6c-4ca9-871c-4617ab374d32",
        "colab": {
          "base_uri": "https://localhost:8080/",
          "height": 34
        }
      },
      "cell_type": "code",
      "source": [
        "#importing data\n",
        "with open(\"sonnets.txt\",\"r\") as sf:\n",
        "  data = sf.read()\n",
        "len(data)"
      ],
      "execution_count": 3,
      "outputs": [
        {
          "output_type": "execute_result",
          "data": {
            "text/plain": [
              "93775"
            ]
          },
          "metadata": {
            "tags": []
          },
          "execution_count": 3
        }
      ]
    },
    {
      "metadata": {
        "id": "1oHrqlxsUe8d",
        "colab_type": "code",
        "outputId": "06bff68c-b1eb-44a5-fae0-d372c7a72455",
        "colab": {
          "base_uri": "https://localhost:8080/",
          "height": 102
        }
      },
      "cell_type": "code",
      "source": [
        "#checking data\n",
        "print(data[:200])"
      ],
      "execution_count": 4,
      "outputs": [
        {
          "output_type": "stream",
          "text": [
            "From fairest creatures we desire increase,\n",
            "That thereby beauty’s Rose might never die,\n",
            "But as the riper should by time decease,\n",
            "His tender heir might bear his memory:\n",
            "But thou, contracted to thine own\n"
          ],
          "name": "stdout"
        }
      ]
    },
    {
      "metadata": {
        "id": "ohDxzoLOUt0Z",
        "colab_type": "code",
        "colab": {}
      },
      "cell_type": "code",
      "source": [
        "#character dictionary\n",
        "chars = tuple(set(data))\n",
        "int_2_char = dict(enumerate(chars))\n",
        "char_2_int = {ch:ii for ii,ch in int_2_char.items()}\n",
        "\n",
        "#encoded characters\n",
        "encoded = np.array([char_2_int[ch] for ch in data])"
      ],
      "execution_count": 0,
      "outputs": []
    },
    {
      "metadata": {
        "id": "FGaTu8-tZp8d",
        "colab_type": "code",
        "outputId": "2e7c8a87-4310-4ae5-bc7f-65494110bb58",
        "colab": {
          "base_uri": "https://localhost:8080/",
          "height": 119
        }
      },
      "cell_type": "code",
      "source": [
        "encoded[:100]"
      ],
      "execution_count": 6,
      "outputs": [
        {
          "output_type": "execute_result",
          "data": {
            "text/plain": [
              "array([24,  8, 33, 27, 14, 47, 43, 61,  8, 13, 57, 32, 14, 19,  8, 13, 43,\n",
              "       32,  9,  8, 13, 57, 14, 22, 13, 14, 23, 13, 57, 61,  8, 13, 14, 61,\n",
              "       28, 19,  8, 13, 43, 57, 13, 40,  1, 37,  3, 43, 32, 14, 32,  3, 13,\n",
              "        8, 13, 62, 15, 14, 62, 13, 43,  9, 32, 15, 49, 57, 14, 50, 33, 57,\n",
              "       13, 14, 27, 61, 41,  3, 32, 14, 28, 13, 38, 13,  8, 14, 23, 61, 13,\n",
              "       40,  1,  4,  9, 32, 14, 43, 57, 14, 32,  3, 13, 14,  8, 61])"
            ]
          },
          "metadata": {
            "tags": []
          },
          "execution_count": 6
        }
      ]
    },
    {
      "metadata": {
        "id": "IAXz3BP2aZtM",
        "colab_type": "code",
        "colab": {}
      },
      "cell_type": "code",
      "source": [
        "def one_hot_encoding(array, n_labels):\n",
        "  \"\"\"method to one-hot encode characters  \n",
        "  array: np.array to be encoded\n",
        "  n_labels: no. of labels, size of dictionary\"\"\"\n",
        "  \n",
        "  #initialize encoded array \n",
        "  one_hot = np.zeros((np.multiply(*array.shape),n_labels),dtype = np.float32)\n",
        "  \n",
        "  #setting appropriate elements with ones\n",
        "  one_hot[np.arange(one_hot.shape[0]),array.flatten()] = 1\n",
        "  \n",
        "  #reshape to required shape\n",
        "  one_hot = one_hot.reshape((*array.shape,n_labels))\n",
        "  \n",
        "  return one_hot"
      ],
      "execution_count": 0,
      "outputs": []
    },
    {
      "metadata": {
        "id": "DZung0gBfchf",
        "colab_type": "code",
        "outputId": "ae87329f-ec99-45bd-e147-bd19229e8a11",
        "colab": {
          "base_uri": "https://localhost:8080/",
          "height": 68
        }
      },
      "cell_type": "code",
      "source": [
        "#checking the method\n",
        "one_hot_encoding(np.array([[3,5,6]]),8)"
      ],
      "execution_count": 8,
      "outputs": [
        {
          "output_type": "execute_result",
          "data": {
            "text/plain": [
              "array([[[0., 0., 0., 1., 0., 0., 0., 0.],\n",
              "        [0., 0., 0., 0., 0., 1., 0., 0.],\n",
              "        [0., 0., 0., 0., 0., 0., 1., 0.]]], dtype=float32)"
            ]
          },
          "metadata": {
            "tags": []
          },
          "execution_count": 8
        }
      ]
    },
    {
      "metadata": {
        "id": "sznh4IU3wGvK",
        "colab_type": "text"
      },
      "cell_type": "markdown",
      "source": [
        "The model is trained using batches of the data. The following method generates a pair of array, <i>x</i>  and <i>y</i>. Where <i>x</i> is array of required characters and <i>y</i> is array of characters next to that corresponding to <i>x</i>. While sequences in <i>x</i> are used as features, sequences in <i>y</i> are used as labels for that of <i>x</i>. "
      ]
    },
    {
      "metadata": {
        "id": "hWXjQFOigY9F",
        "colab_type": "code",
        "colab": {}
      },
      "cell_type": "code",
      "source": [
        "def get_batches(array, batch_size, seq_len):\n",
        "  \"\"\"method to generate batches of data\n",
        "  array: one-hot encoded data as np.array\n",
        "  batch_size: no. of sequences required in each batch\n",
        "  seq_len: no. of characters in each sequence\"\"\"\n",
        "\n",
        "  #calculating characters in each batch\n",
        "  batch_size_total = batch_size * seq_len\n",
        "  \n",
        "  #no. of batches that can be genrated from the data\n",
        "  n_batches = len(array) // batch_size_total\n",
        "  \n",
        "  array = array[:n_batches * batch_size_total]\n",
        "  \n",
        "  array = array.reshape((batch_size, -1))\n",
        "  \n",
        "  for n in range(0, array.shape[1], seq_len):\n",
        "    \n",
        "    x = array[:, n : n + seq_len]#batch of required characters as features\n",
        "    y = np.zeros_like(x)#batch of coresponding x+1 character as labels\n",
        "    \n",
        "    try:\n",
        "      y[:,:-1], y[:,-1] = x[:,1:], array[:,n+seq_len]\n",
        "      \n",
        "    except IndexError:\n",
        "      y[:,:-1], y[:,-1] = x[:,1:], array[:,0]\n",
        "      \n",
        "    yield x,y"
      ],
      "execution_count": 0,
      "outputs": []
    },
    {
      "metadata": {
        "id": "Q16_L3aDnDqy",
        "colab_type": "code",
        "outputId": "e124fc4c-2a76-43d2-9fda-158c5defdfd4",
        "colab": {
          "base_uri": "https://localhost:8080/",
          "height": 425
        }
      },
      "cell_type": "code",
      "source": [
        "#testing get_batches()\n",
        "for x,y in get_batches(encoded[:50],5,5):\n",
        "  print(\"x =\\n{}\".format(x))\n",
        "  print(\"Y =\\n{}\".format(y))"
      ],
      "execution_count": 10,
      "outputs": [
        {
          "output_type": "stream",
          "text": [
            "x =\n",
            "[[24  8 33 27 14]\n",
            " [57 32 14 19  8]\n",
            " [13 57 14 22 13]\n",
            " [ 8 13 14 61 28]\n",
            " [13 40  1 37  3]]\n",
            "Y =\n",
            "[[ 8 33 27 14 47]\n",
            " [32 14 19  8 13]\n",
            " [57 14 22 13 14]\n",
            " [13 14 61 28 19]\n",
            " [40  1 37  3 43]]\n",
            "x =\n",
            "[[47 43 61  8 13]\n",
            " [13 43 32  9  8]\n",
            " [14 23 13 57 61]\n",
            " [19  8 13 43 57]\n",
            " [43 32 14 32  3]]\n",
            "Y =\n",
            "[[43 61  8 13 24]\n",
            " [43 32  9  8 57]\n",
            " [23 13 57 61 13]\n",
            " [ 8 13 43 57  8]\n",
            " [32 14 32  3 13]]\n"
          ],
          "name": "stdout"
        }
      ]
    },
    {
      "metadata": {
        "id": "De8p3Md8yv0R",
        "colab_type": "text"
      },
      "cell_type": "markdown",
      "source": [
        "<h2>Building the model</h2>"
      ]
    },
    {
      "metadata": {
        "id": "rJrlQWvPnHOy",
        "colab_type": "code",
        "outputId": "182d684c-8837-4920-9cea-b474e70b83ea",
        "colab": {
          "base_uri": "https://localhost:8080/",
          "height": 34
        }
      },
      "cell_type": "code",
      "source": [
        "#testing for gpu availibility\n",
        "device = torch.device(\"cuda\") if torch.cuda.is_available() else torch.device(\"cpu\")\n",
        "device"
      ],
      "execution_count": 11,
      "outputs": [
        {
          "output_type": "execute_result",
          "data": {
            "text/plain": [
              "device(type='cuda')"
            ]
          },
          "metadata": {
            "tags": []
          },
          "execution_count": 11
        }
      ]
    },
    {
      "metadata": {
        "id": "hYlbiskMsD3W",
        "colab_type": "code",
        "colab": {}
      },
      "cell_type": "code",
      "source": [
        "class CharLSTM(nn.Module):\n",
        "  #class for the model\n",
        "  \n",
        "  def __init__(self, tokens_len, n_hidden=256, n_layers=2, drop_prob=0.5):\n",
        "    \n",
        "    super().__init__()\n",
        "    \n",
        "    self.chars_len = tokens_len#length of dictionary\n",
        "    self.n_hidden = n_hidden#no. of hidden layers \n",
        "    self.n_layers = n_layers#no. of layers of LSTM cell\n",
        "    self.drop_prob = drop_prob#dropout probability for regularization\n",
        "    \n",
        "    #LSTM layer of the model\n",
        "    self.lstm = nn.LSTM(self.chars_len, self.n_hidden, self.n_layers, dropout=self.drop_prob, batch_first=True)\n",
        "    \n",
        "    #Dropout layer of the model\n",
        "    self.dropout = nn.Dropout(self.drop_prob)\n",
        "    \n",
        "    #Fully connected layer of the model\n",
        "    self.fc = nn.Linear(self.n_hidden, self.chars_len)\n",
        "    \n",
        "    \n",
        "  def forward(self, x, hidden):\n",
        "    \n",
        "    output_r, hidden_out = self.lstm(x, hidden)\n",
        "    \n",
        "    out = self.dropout(output_r)\n",
        "    \n",
        "    #contiguos is used to reshape output of stacked LSTM cells\n",
        "    out = out.contiguous().view(-1,self.n_hidden)\n",
        "    \n",
        "    out = self.fc(out)\n",
        "    \n",
        "    return out, hidden_out\n",
        "  \n",
        "  \n",
        "  def init_hidden(self, batch_size, device):\n",
        "    #method to initialize hidden layer for the model\n",
        "    \n",
        "    weights = next(self.parameters()).data\n",
        "    \n",
        "    hidden = (weights.new(self.n_layers, batch_size, self.n_hidden).zero_().to(device),\n",
        "             weights.new(self.n_layers, batch_size, self.n_hidden).zero_().to(device))\n",
        "    \n",
        "    return hidden"
      ],
      "execution_count": 0,
      "outputs": []
    },
    {
      "metadata": {
        "id": "fLnW_MyW04gl",
        "colab_type": "text"
      },
      "cell_type": "markdown",
      "source": [
        "<h2>Training the model</h2>"
      ]
    },
    {
      "metadata": {
        "id": "aiqS-2Y49qG_",
        "colab_type": "code",
        "colab": {}
      },
      "cell_type": "code",
      "source": [
        "def train(model, data, epoch=20, batch_size=10, seq_len=50, lr=0.001, clip=5, val_frac=0.2, print_every=10):\n",
        "  \"\"\"train method is used to train the model \n",
        "  \n",
        "  model: CharLSTM object to be trained \n",
        "  data: data to be used to train the model. Data should be converted to int\n",
        "  batch_size: no. of sequences in each batch\n",
        "  seq_len: no. of characters in each sequence\n",
        "  lr: learning rate used by the optimizer to train the model\n",
        "  clip: clip the gradient for lstm to avoid exploding gradient\n",
        "  val_frac: fraction of data to be used for validation\n",
        "  print_every: number of steps to print training and validation loss\"\"\"\n",
        "  \n",
        "  #explicitly moving model to training mode\n",
        "  model.train()\n",
        "  \n",
        "  #initialising optimizer for the model\n",
        "  optim = torch.optim.Adam(model.parameters(), lr=lr)\n",
        "\n",
        "  #intialising loss function for the model\n",
        "  criterion = nn.CrossEntropyLoss()\n",
        "  \n",
        "  #splitting validation and training data\n",
        "  val_idx = int(len(data) * (1 - val_frac))\n",
        "  data, val_data = data[:val_idx], data[val_idx:]\n",
        "  \n",
        "  model = model.to(device)\n",
        "  \n",
        "  counter = 0\n",
        "  n_chars = model.chars_len\n",
        "  train_losses = []\n",
        "  valid_losses = []\n",
        "  \n",
        "  \n",
        "  for e in range(epoch):\n",
        "      \n",
        "    #initialising hidden layers\n",
        "    h = model.init_hidden(batch_size, device)\n",
        "    \n",
        "    t_loss = []\n",
        "    \n",
        "    #for every batch\n",
        "    for x,y in get_batches(data, batch_size, seq_len):\n",
        "      \n",
        "      counter += 1\n",
        "      \n",
        "      \n",
        "      x = one_hot_encoding(x, n_chars)\n",
        "      inputs, targets = torch.from_numpy(x).to(device), torch.from_numpy(y).to(device)\n",
        "      \n",
        "      h = tuple([each.data for each in h])\n",
        "      \n",
        "      #clearing gradients on model parameters, if any\n",
        "      model.zero_grad()\n",
        "      \n",
        "      #feedforward \n",
        "      output, h = model(inputs, h)\n",
        "          \n",
        "      #calculationg loss\n",
        "      loss = criterion(output, targets.view(batch_size * seq_len))\n",
        "      \n",
        "      #backpropogation\n",
        "      loss.backward()\n",
        "      \n",
        "      #clearing extra gradient\n",
        "      nn.utils.clip_grad_norm_(model.parameters(), clip)\n",
        "      \n",
        "      #optimiser step\n",
        "      optim.step()\n",
        "      \n",
        "      t_loss.append(loss.item())\n",
        "      \n",
        "      #checking validation loss\n",
        "      if counter % print_every == 0:\n",
        "        \n",
        "        val_h = model.init_hidden(batch_size, device)\n",
        "        \n",
        "        val_losses = []\n",
        "        \n",
        "        #explicitly moving model to evaluation mode\n",
        "        model.eval()\n",
        "        \n",
        "        for x,y in get_batches(val_data, batch_size, seq_len):\n",
        "          \n",
        "          x = one_hot_encoding(x, n_chars)\n",
        "          \n",
        "          inputs, targets = torch.from_numpy(x).to(device), torch.from_numpy(y).to(device)\n",
        "          \n",
        "          val_h = tuple([each.data for each in h])\n",
        "          \n",
        "          output, h = model(inputs, val_h)\n",
        "          \n",
        "          val_loss = criterion(output, targets.view(batch_size * seq_len))\n",
        "          \n",
        "          val_losses.append(val_loss.item())\n",
        "        \n",
        "        model.train()\n",
        "        \n",
        "        \n",
        "        train_losses.append(np.mean(t_loss))\n",
        "        valid_losses.append(np.mean(val_losses))\n",
        "        \n",
        "        print(\"Epoch: {}/{}...\".format(e+1, epochs),\n",
        "                      \"Step: {}...\".format(counter),\n",
        "                      \"Loss: {:.4f}...\".format(train_losses[-1]),\n",
        "                      \"Val Loss: {:.4f}\".format(valid_losses[-1]))\n",
        "        \n",
        "  return train_losses, valid_losses"
      ],
      "execution_count": 0,
      "outputs": []
    },
    {
      "metadata": {
        "id": "PtqJYjxtNfK-",
        "colab_type": "code",
        "outputId": "47e67a3e-2ea2-467e-ad26-2c4198e5f020",
        "colab": {
          "base_uri": "https://localhost:8080/",
          "height": 102
        }
      },
      "cell_type": "code",
      "source": [
        "#hyperparameters for initialising the model\n",
        "n_hidden = 128\n",
        "n_layers = 2\n",
        "drop_prob = 0.50\n",
        "\n",
        "#initialising the model\n",
        "model = CharLSTM(len(chars), n_hidden=n_hidden, n_layers=n_layers, drop_prob=drop_prob)\n",
        "model"
      ],
      "execution_count": 54,
      "outputs": [
        {
          "output_type": "execute_result",
          "data": {
            "text/plain": [
              "CharLSTM(\n",
              "  (lstm): LSTM(63, 128, num_layers=2, batch_first=True, dropout=0.5)\n",
              "  (dropout): Dropout(p=0.5)\n",
              "  (fc): Linear(in_features=128, out_features=63, bias=True)\n",
              ")"
            ]
          },
          "metadata": {
            "tags": []
          },
          "execution_count": 54
        }
      ]
    },
    {
      "metadata": {
        "id": "CrnkuJmAKzxT",
        "colab_type": "code",
        "outputId": "afa73b1e-c02d-4ce7-8e9e-9b20d88d9532",
        "colab": {
          "base_uri": "https://localhost:8080/",
          "height": 1547
        }
      },
      "cell_type": "code",
      "source": [
        "#hyperparameters for training the model\n",
        "epochs = 60\n",
        "lr = 0.001\n",
        "batch_size = 20\n",
        "seq_len = 100\n",
        "print_every = 50\n",
        "\n",
        "#initiating training \n",
        "train_losses, val_losses = train(model, encoded, epoch=epochs, batch_size=batch_size, lr=lr, print_every = print_every)"
      ],
      "execution_count": 55,
      "outputs": [
        {
          "output_type": "stream",
          "text": [
            "Epoch: 1/60... Step: 50... Loss: 3.3918... Val Loss: 3.1193\n",
            "Epoch: 2/60... Step: 100... Loss: 3.1481... Val Loss: 3.1139\n",
            "Epoch: 2/60... Step: 150... Loss: 3.1326... Val Loss: 3.1025\n",
            "Epoch: 3/60... Step: 200... Loss: 3.0974... Val Loss: 3.0459\n",
            "Epoch: 4/60... Step: 250... Loss: 2.9298... Val Loss: 2.8358\n",
            "Epoch: 4/60... Step: 300... Loss: 2.8383... Val Loss: 2.6810\n",
            "Epoch: 5/60... Step: 350... Loss: 2.6831... Val Loss: 2.5459\n",
            "Epoch: 6/60... Step: 400... Loss: 2.5612... Val Loss: 2.4585\n",
            "Epoch: 6/60... Step: 450... Loss: 2.5191... Val Loss: 2.3949\n",
            "Epoch: 7/60... Step: 500... Loss: 2.4591... Val Loss: 2.3559\n",
            "Epoch: 8/60... Step: 550... Loss: 2.4317... Val Loss: 2.3286\n",
            "Epoch: 8/60... Step: 600... Loss: 2.4069... Val Loss: 2.3102\n",
            "Epoch: 9/60... Step: 650... Loss: 2.3751... Val Loss: 2.2864\n",
            "Epoch: 10/60... Step: 700... Loss: 2.3543... Val Loss: 2.2675\n",
            "Epoch: 10/60... Step: 750... Loss: 2.3398... Val Loss: 2.2558\n",
            "Epoch: 11/60... Step: 800... Loss: 2.3215... Val Loss: 2.2388\n",
            "Epoch: 12/60... Step: 850... Loss: 2.3017... Val Loss: 2.2178\n",
            "Epoch: 12/60... Step: 900... Loss: 2.2847... Val Loss: 2.2030\n",
            "Epoch: 13/60... Step: 950... Loss: 2.2680... Val Loss: 2.1868\n",
            "Epoch: 14/60... Step: 1000... Loss: 2.2539... Val Loss: 2.1660\n",
            "Epoch: 14/60... Step: 1050... Loss: 2.2374... Val Loss: 2.1547\n",
            "Epoch: 15/60... Step: 1100... Loss: 2.2194... Val Loss: 2.1409\n",
            "Epoch: 16/60... Step: 1150... Loss: 2.2079... Val Loss: 2.1184\n",
            "Epoch: 16/60... Step: 1200... Loss: 2.1939... Val Loss: 2.1122\n",
            "Epoch: 17/60... Step: 1250... Loss: 2.1757... Val Loss: 2.0906\n",
            "Epoch: 18/60... Step: 1300... Loss: 2.1579... Val Loss: 2.0745\n",
            "Epoch: 18/60... Step: 1350... Loss: 2.1434... Val Loss: 2.0583\n",
            "Epoch: 19/60... Step: 1400... Loss: 2.1244... Val Loss: 2.0399\n",
            "Epoch: 20/60... Step: 1450... Loss: 2.1136... Val Loss: 2.0223\n",
            "Epoch: 20/60... Step: 1500... Loss: 2.0959... Val Loss: 2.0148\n",
            "Epoch: 21/60... Step: 1550... Loss: 2.0853... Val Loss: 2.0000\n",
            "Epoch: 22/60... Step: 1600... Loss: 2.0806... Val Loss: 1.9961\n",
            "Epoch: 22/60... Step: 1650... Loss: 2.0617... Val Loss: 1.9780\n",
            "Epoch: 23/60... Step: 1700... Loss: 2.0470... Val Loss: 1.9738\n",
            "Epoch: 24/60... Step: 1750... Loss: 2.0465... Val Loss: 1.9585\n",
            "Epoch: 24/60... Step: 1800... Loss: 2.0339... Val Loss: 1.9559\n",
            "Epoch: 25/60... Step: 1850... Loss: 2.0183... Val Loss: 1.9429\n",
            "Epoch: 26/60... Step: 1900... Loss: 2.0061... Val Loss: 1.9326\n",
            "Epoch: 26/60... Step: 1950... Loss: 1.9986... Val Loss: 1.9287\n",
            "Epoch: 27/60... Step: 2000... Loss: 1.9914... Val Loss: 1.9223\n",
            "Epoch: 28/60... Step: 2050... Loss: 1.9903... Val Loss: 1.9220\n",
            "Epoch: 28/60... Step: 2100... Loss: 1.9757... Val Loss: 1.9095\n",
            "Epoch: 29/60... Step: 2150... Loss: 1.9612... Val Loss: 1.8997\n",
            "Epoch: 30/60... Step: 2200... Loss: 1.9641... Val Loss: 1.8987\n",
            "Epoch: 30/60... Step: 2250... Loss: 1.9518... Val Loss: 1.8869\n",
            "Epoch: 31/60... Step: 2300... Loss: 1.9444... Val Loss: 1.8891\n",
            "Epoch: 32/60... Step: 2350... Loss: 1.9416... Val Loss: 1.8783\n",
            "Epoch: 32/60... Step: 2400... Loss: 1.9344... Val Loss: 1.8722\n",
            "Epoch: 33/60... Step: 2450... Loss: 1.9202... Val Loss: 1.8668\n",
            "Epoch: 34/60... Step: 2500... Loss: 1.9224... Val Loss: 1.8661\n",
            "Epoch: 34/60... Step: 2550... Loss: 1.9138... Val Loss: 1.8608\n",
            "Epoch: 35/60... Step: 2600... Loss: 1.9067... Val Loss: 1.8747\n",
            "Epoch: 36/60... Step: 2650... Loss: 1.9013... Val Loss: 1.8444\n",
            "Epoch: 36/60... Step: 2700... Loss: 1.8912... Val Loss: 1.8451\n",
            "Epoch: 37/60... Step: 2750... Loss: 1.8822... Val Loss: 1.8444\n",
            "Epoch: 38/60... Step: 2800... Loss: 1.8830... Val Loss: 1.8336\n",
            "Epoch: 38/60... Step: 2850... Loss: 1.8752... Val Loss: 1.8399\n",
            "Epoch: 39/60... Step: 2900... Loss: 1.8696... Val Loss: 1.8395\n",
            "Epoch: 40/60... Step: 2950... Loss: 1.8782... Val Loss: 1.8207\n",
            "Epoch: 40/60... Step: 3000... Loss: 1.8650... Val Loss: 1.8223\n",
            "Epoch: 41/60... Step: 3050... Loss: 1.8485... Val Loss: 1.8214\n",
            "Epoch: 42/60... Step: 3100... Loss: 1.8552... Val Loss: 1.8166\n",
            "Epoch: 42/60... Step: 3150... Loss: 1.8457... Val Loss: 1.8146\n",
            "Epoch: 43/60... Step: 3200... Loss: 1.8394... Val Loss: 1.8140\n",
            "Epoch: 44/60... Step: 3250... Loss: 1.8352... Val Loss: 1.8042\n",
            "Epoch: 44/60... Step: 3300... Loss: 1.8260... Val Loss: 1.8076\n",
            "Epoch: 45/60... Step: 3350... Loss: 1.8256... Val Loss: 1.8131\n",
            "Epoch: 46/60... Step: 3400... Loss: 1.8239... Val Loss: 1.7944\n",
            "Epoch: 46/60... Step: 3450... Loss: 1.8171... Val Loss: 1.7969\n",
            "Epoch: 47/60... Step: 3500... Loss: 1.8092... Val Loss: 1.7991\n",
            "Epoch: 48/60... Step: 3550... Loss: 1.8152... Val Loss: 1.7870\n",
            "Epoch: 48/60... Step: 3600... Loss: 1.8021... Val Loss: 1.7928\n",
            "Epoch: 49/60... Step: 3650... Loss: 1.7968... Val Loss: 1.7906\n",
            "Epoch: 50/60... Step: 3700... Loss: 1.8005... Val Loss: 1.7807\n",
            "Epoch: 50/60... Step: 3750... Loss: 1.7885... Val Loss: 1.7884\n",
            "Epoch: 51/60... Step: 3800... Loss: 1.7894... Val Loss: 1.7867\n",
            "Epoch: 52/60... Step: 3850... Loss: 1.7839... Val Loss: 1.7744\n",
            "Epoch: 52/60... Step: 3900... Loss: 1.7784... Val Loss: 1.7824\n",
            "Epoch: 53/60... Step: 3950... Loss: 1.7710... Val Loss: 1.7845\n",
            "Epoch: 54/60... Step: 4000... Loss: 1.7801... Val Loss: 1.7723\n",
            "Epoch: 54/60... Step: 4050... Loss: 1.7672... Val Loss: 1.7785\n",
            "Epoch: 55/60... Step: 4100... Loss: 1.7639... Val Loss: 1.7790\n",
            "Epoch: 56/60... Step: 4150... Loss: 1.7590... Val Loss: 1.7665\n",
            "Epoch: 56/60... Step: 4200... Loss: 1.7524... Val Loss: 1.7745\n",
            "Epoch: 57/60... Step: 4250... Loss: 1.7457... Val Loss: 1.7796\n",
            "Epoch: 58/60... Step: 4300... Loss: 1.7574... Val Loss: 1.7657\n",
            "Epoch: 58/60... Step: 4350... Loss: 1.7494... Val Loss: 1.7682\n",
            "Epoch: 59/60... Step: 4400... Loss: 1.7374... Val Loss: 1.7802\n",
            "Epoch: 60/60... Step: 4450... Loss: 1.7432... Val Loss: 1.7606\n",
            "Epoch: 60/60... Step: 4500... Loss: 1.7328... Val Loss: 1.7656\n"
          ],
          "name": "stdout"
        }
      ]
    },
    {
      "metadata": {
        "id": "ylMWIpPT2n08",
        "colab_type": "text"
      },
      "cell_type": "markdown",
      "source": [
        "<h2>Analysing and Testing</h2>"
      ]
    },
    {
      "metadata": {
        "id": "27xTn1H5OgNz",
        "colab_type": "code",
        "outputId": "19d6e335-ccb8-4473-b36a-09b34cb25f76",
        "colab": {
          "base_uri": "https://localhost:8080/",
          "height": 347
        }
      },
      "cell_type": "code",
      "source": [
        "import matplotlib.pyplot as plt\n",
        "\n",
        "#analysising training and validation loss over the training time\n",
        "plt.plot(train_losses)\n",
        "plt.plot(val_losses)\n",
        "plt.legend([\"Training Loss\",\"Validation Loss\"])\n",
        "plt.show()"
      ],
      "execution_count": 56,
      "outputs": [
        {
          "output_type": "display_data",
          "data": {
            "image/png": "[encoded data removed]",
            "text/plain": [
              "<Figure size 576x396 with 1 Axes>"
            ]
          },
          "metadata": {
            "tags": []
          }
        }
      ]
    },
    {
      "metadata": {
        "id": "Unmk1mUByYf3",
        "colab_type": "text"
      },
      "cell_type": "markdown",
      "source": [
        "It is clear from the graph that if the model is trained any further it will overfit the training data. Even after trying with all possible hyperparameters this was the best result. This means that 94k characters aren't sufficient to train our model. Introducing more characters, around 10mil, will allow us to increase the size of our hidden layer which will increase the accuracy of our model."
      ]
    },
    {
      "metadata": {
        "id": "08tVse778u5Z",
        "colab_type": "code",
        "colab": {}
      },
      "cell_type": "code",
      "source": [
        "#saving the model\n",
        "model_name = 'lstm_55_epoch_128_h_50_dp.net'\n",
        "\n",
        "checkpoint = {'n_hidden': model.n_hidden,\n",
        "              'n_layers': model.n_layers,\n",
        "              'state_dict': model.state_dict(),\n",
        "              'chars_len': model.chars_len}\n",
        "\n",
        "with open(model_name, 'wb') as f:\n",
        "    torch.save(checkpoint, f)"
      ],
      "execution_count": 0,
      "outputs": []
    },
    {
      "metadata": {
        "id": "0e5oLejURYrx",
        "colab_type": "code",
        "colab": {}
      },
      "cell_type": "code",
      "source": [
        "import torch.nn.functional as F\n",
        "\n",
        "def predict(model, char, h=None, top_k=None):\n",
        "  ''' method to predict next character in the sequence\n",
        "  \n",
        "  model: model to be used to predict character\n",
        "  char: int of current character, i.e input for the model\n",
        "  h: hidden layer \n",
        "  top_k: no. of top k possible characters\n",
        "  '''\n",
        "\n",
        "  # tensor inputs\n",
        "  x = np.array([[char_2_int[char]]])\n",
        "  x = one_hot_encoding(x, model.chars_len)\n",
        "  inputs = torch.from_numpy(x).to(device)\n",
        "\n",
        "  # detach hidden state from history\n",
        "  h = tuple([each.data for each in h])\n",
        "  # get the output of the model\n",
        "  out, h = model(inputs, h)\n",
        "\n",
        "  # get the character probabilities\n",
        "  p = F.softmax(out, dim=1).data\n",
        "\n",
        "  p = p.cpu() # move to cpu\n",
        "\n",
        "  # get top characters\n",
        "  if top_k is None:\n",
        "      top_ch = np.arange(len(model.chars))\n",
        "  else:\n",
        "      p, top_ch = p.topk(top_k)\n",
        "      top_ch = top_ch.numpy().squeeze()\n",
        "\n",
        "  # select the likely next character with some element of randomness\n",
        "  p = p.numpy().squeeze()\n",
        "  char = np.random.choice(top_ch, p=p/p.sum())\n",
        "\n",
        "  # return the encoded value of the predicted char and the hidden state\n",
        "  return int_2_char[char], h"
      ],
      "execution_count": 0,
      "outputs": []
    },
    {
      "metadata": {
        "id": "VssUyVmLoPvp",
        "colab_type": "code",
        "colab": {}
      },
      "cell_type": "code",
      "source": [
        "def sample(model, size, prime='The', top_k=None):\n",
        "  \"\"\"method to sample or generate string fraom predicted characters\n",
        "  \n",
        "  model: model used to predict\n",
        "  size: number of characters to be predicted\n",
        "  prime: intialising sequence\n",
        "  top_k: no. of top k possible characters\"\"\"\n",
        "  \n",
        "  model = model.to(device)\n",
        "  model.eval() # eval mode\n",
        "\n",
        "  # First off, run through the prime characters\n",
        "  chars = [ch for ch in prime]\n",
        "  h = model.init_hidden(1,device)\n",
        "  for ch in prime:\n",
        "      char, h = predict(model, ch, h, top_k=top_k)\n",
        "\n",
        "  chars.append(char)\n",
        "\n",
        "  # Now pass in the previous character and get a new one\n",
        "  for ii in range(size):\n",
        "      char, h = predict(model, chars[-1], h, top_k=top_k)\n",
        "      chars.append(char)\n",
        "\n",
        "  return ''.join(chars)"
      ],
      "execution_count": 0,
      "outputs": []
    },
    {
      "metadata": {
        "id": "F0WjoAZKoWmy",
        "colab_type": "code",
        "outputId": "0e6cfc99-471b-461f-b1bd-07f1ebe54b95",
        "colab": {
          "base_uri": "https://localhost:8080/",
          "height": 102
        }
      },
      "cell_type": "code",
      "source": [
        "#testing the model\n",
        "print(sample(model, 200, prime='You', top_k=2))"
      ],
      "execution_count": 60,
      "outputs": [
        {
          "output_type": "stream",
          "text": [
            "You that shall, to the see,\n",
            "The world to stall to the store and tome,\n",
            "Then thou the sheer than the worth thee to the well,\n",
            "To to shall to the will the worth thou thee,\n",
            "And then my love all store thou the \n"
          ],
          "name": "stdout"
        }
      ]
    },
    {
      "metadata": {
        "id": "i3o_TG6u2zT6",
        "colab_type": "text"
      },
      "cell_type": "markdown",
      "source": [
        "While there are meaningfull words in the output, there is substancial lack of structure in the content. This can be improved if the model is trained for longer time on a bigger data. Andrew Karpathy mentions in his post that he trained his model for an hour on Shakespeare's dramas to achieve the result mentioned in his post. <a href=\"http://karpathy.github.io/2015/05/21/rnn-effectiveness/\">Andrew Karpathy's post</a>"
      ]
    }
  ]
}