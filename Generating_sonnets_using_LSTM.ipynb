{
  "nbformat": 4,
  "nbformat_minor": 0,
  "metadata": {
    "colab": {
      "name": "Generating_sonnets_using_LSTM.ipynb",
      "version": "0.3.2",
      "provenance": [],
      "collapsed_sections": []
    },
    "kernelspec": {
      "name": "python3",
      "display_name": "Python 3"
    },
    "accelerator": "GPU"
  },
  "cells": [
    {
      "metadata": {
        "id": "jdm0W0yol52F",
        "colab_type": "text"
      },
      "cell_type": "markdown",
      "source": [
        "<h1> LSTM to generate Shakespearean Sonnet</h1>\n",
        "\n",
        "This implemetation of LSTM is based on what I learnt from Udacity Deep Learning with PyTorch course. While in the course we generated text from Anna Karenina, here I have leveraged LSTM to generate sonnet based on Shakespeare's style. To achieve this we will train the LSTM model with Shakespeare's Sonnets, the model will eventually learn his style and will be able to predict the next character of the text with current character as input to the it. "
      ]
    },
    {
      "metadata": {
        "id": "PIvG0TEZNjMa",
        "colab_type": "code",
        "colab": {}
      },
      "cell_type": "code",
      "source": [
        "#importing required libraries \n",
        "import torch\n",
        "from torch import nn\n",
        "import numpy as np"
      ],
      "execution_count": 0,
      "outputs": []
    },
    {
      "metadata": {
        "id": "_-9B4p_0pV2j",
        "colab_type": "text"
      },
      "cell_type": "markdown",
      "source": [
        "<h2>Pre-processing Data</h2>\n",
        "\n",
        "The file, <i>sonnets.txt</i>, contains all of 154 sonnets composed by Shakespeare. There are roughly 94k characters in the file for us to work with."
      ]
    },
    {
      "metadata": {
        "id": "fOJNQ-UZQiPe",
        "colab_type": "code",
        "outputId": "d27fa0de-04c6-4f3a-9742-25284cee8b49",
        "colab": {
          "base_uri": "https://localhost:8080/",
          "height": 34
        }
      },
      "cell_type": "code",
      "source": [
        "#importing data\n",
        "with open(\"sonnets.txt\",\"r\") as sf:\n",
        "  data = sf.read()\n",
        "len(data)"
      ],
      "execution_count": 2,
      "outputs": [
        {
          "output_type": "execute_result",
          "data": {
            "text/plain": [
              "93775"
            ]
          },
          "metadata": {
            "tags": []
          },
          "execution_count": 2
        }
      ]
    },
    {
      "metadata": {
        "id": "1oHrqlxsUe8d",
        "colab_type": "code",
        "outputId": "5c9b7029-e186-40f5-a3e1-dc7b23f38099",
        "colab": {
          "base_uri": "https://localhost:8080/",
          "height": 102
        }
      },
      "cell_type": "code",
      "source": [
        "#checking data\n",
        "print(data[:200])"
      ],
      "execution_count": 3,
      "outputs": [
        {
          "output_type": "stream",
          "text": [
            "From fairest creatures we desire increase,\n",
            "That thereby beauty’s Rose might never die,\n",
            "But as the riper should by time decease,\n",
            "His tender heir might bear his memory:\n",
            "But thou, contracted to thine own\n"
          ],
          "name": "stdout"
        }
      ]
    },
    {
      "metadata": {
        "id": "ohDxzoLOUt0Z",
        "colab_type": "code",
        "colab": {}
      },
      "cell_type": "code",
      "source": [
        "#character dictionary\n",
        "chars = tuple(set(data))\n",
        "int_2_char = dict(enumerate(chars))\n",
        "char_2_int = {ch:ii for ii,ch in int_2_char.items()}\n",
        "\n",
        "#encoded characters\n",
        "encoded = np.array([char_2_int[ch] for ch in data])"
      ],
      "execution_count": 0,
      "outputs": []
    },
    {
      "metadata": {
        "id": "FGaTu8-tZp8d",
        "colab_type": "code",
        "outputId": "83f0ad9a-0c67-4cb8-86f1-a2d2b2f83317",
        "colab": {
          "base_uri": "https://localhost:8080/",
          "height": 119
        }
      },
      "cell_type": "code",
      "source": [
        "encoded[:100]"
      ],
      "execution_count": 5,
      "outputs": [
        {
          "output_type": "execute_result",
          "data": {
            "text/plain": [
              "array([43, 15, 40, 25, 24, 23, 16, 33, 15, 57, 62, 42, 24, 18, 15, 57, 16,\n",
              "       42,  1, 15, 57, 62, 24, 14, 57, 24,  3, 57, 62, 33, 15, 57, 24, 33,\n",
              "       28, 18, 15, 57, 16, 62, 57,  4, 11, 45, 35, 16, 42, 24, 42, 35, 57,\n",
              "       15, 57,  7, 55, 24,  7, 57, 16,  1, 42, 55, 19, 62, 24, 36, 40, 62,\n",
              "       57, 24, 25, 33,  8, 35, 42, 24, 28, 57, 31, 57, 15, 24,  3, 33, 57,\n",
              "        4, 11, 60,  1, 42, 24, 16, 62, 24, 42, 35, 57, 24, 15, 33])"
            ]
          },
          "metadata": {
            "tags": []
          },
          "execution_count": 5
        }
      ]
    },
    {
      "metadata": {
        "id": "IAXz3BP2aZtM",
        "colab_type": "code",
        "colab": {}
      },
      "cell_type": "code",
      "source": [
        "def one_hot_encoding(array, n_labels):\n",
        "  \"\"\"method to one-hot encode characters  \n",
        "  array: np.array to be encoded\n",
        "  n_labels: no. of labels, size of dictionary\"\"\"\n",
        "  \n",
        "  #initialize encoded array \n",
        "  one_hot = np.zeros((np.multiply(*array.shape),n_labels),dtype = np.float32)\n",
        "  \n",
        "  #setting appropriate elements with ones\n",
        "  one_hot[np.arange(one_hot.shape[0]),array.flatten()] = 1\n",
        "  \n",
        "  #reshape to required shape\n",
        "  one_hot = one_hot.reshape((*array.shape,n_labels))\n",
        "  \n",
        "  return one_hot"
      ],
      "execution_count": 0,
      "outputs": []
    },
    {
      "metadata": {
        "id": "DZung0gBfchf",
        "colab_type": "code",
        "outputId": "a700f578-840a-4655-8b86-3debb7611a46",
        "colab": {
          "base_uri": "https://localhost:8080/",
          "height": 68
        }
      },
      "cell_type": "code",
      "source": [
        "#checking the method\n",
        "one_hot_encoding(np.array([[3,5,6]]),8)"
      ],
      "execution_count": 7,
      "outputs": [
        {
          "output_type": "execute_result",
          "data": {
            "text/plain": [
              "array([[[0., 0., 0., 1., 0., 0., 0., 0.],\n",
              "        [0., 0., 0., 0., 0., 1., 0., 0.],\n",
              "        [0., 0., 0., 0., 0., 0., 1., 0.]]], dtype=float32)"
            ]
          },
          "metadata": {
            "tags": []
          },
          "execution_count": 7
        }
      ]
    },
    {
      "metadata": {
        "id": "sznh4IU3wGvK",
        "colab_type": "text"
      },
      "cell_type": "markdown",
      "source": [
        "The model is trained using batches of the data. The following method generates a pair of array, <i>x</i>  and <i>y</i>. Where <i>x</i> is array of required characters and <i>y</i> is array of characters next to that corresponding to <i>x</i>. While sequences in <i>x</i> are used as features, sequences in <i>y</i> are used as labels for that of <i>x</i>. "
      ]
    },
    {
      "metadata": {
        "id": "hWXjQFOigY9F",
        "colab_type": "code",
        "colab": {}
      },
      "cell_type": "code",
      "source": [
        "def get_batches(array, batch_size, seq_len):\n",
        "  \"\"\"method to generate batches of data\n",
        "  array: one-hot encoded data as np.array\n",
        "  batch_size: no. of sequences required in each batch\n",
        "  seq_len: no. of characters in each sequence\"\"\"\n",
        "\n",
        "  #calculating characters in each batch\n",
        "  batch_size_total = batch_size * seq_len\n",
        "  \n",
        "  #no. of batches that can be genrated from the data\n",
        "  n_batches = len(array) // batch_size_total\n",
        "  \n",
        "  array = array[:n_batches * batch_size_total]\n",
        "  \n",
        "  array = array.reshape((batch_size, -1))\n",
        "  \n",
        "  for n in range(0, array.shape[1], seq_len):\n",
        "    \n",
        "    x = array[:, n : n + seq_len]#batch of required characters as features\n",
        "    y = np.zeros_like(x)#batch of coresponding x+1 character as labels\n",
        "    \n",
        "    try:\n",
        "      y[:,:-1], y[:,-1] = x[:,1:], array[:,n+seq_len]\n",
        "      \n",
        "    except IndexError:\n",
        "      y[:,:-1], y[:,-1] = x[:,1:], array[:,0]\n",
        "      \n",
        "    yield x,y"
      ],
      "execution_count": 0,
      "outputs": []
    },
    {
      "metadata": {
        "id": "Q16_L3aDnDqy",
        "colab_type": "code",
        "outputId": "b1679ede-3288-46cc-970e-d57e0ad8a3e4",
        "colab": {
          "base_uri": "https://localhost:8080/",
          "height": 425
        }
      },
      "cell_type": "code",
      "source": [
        "#testing get_batches()\n",
        "for x,y in get_batches(encoded[:50],5,5):\n",
        "  print(\"x =\\n{}\".format(x))\n",
        "  print(\"Y =\\n{}\".format(y))"
      ],
      "execution_count": 9,
      "outputs": [
        {
          "output_type": "stream",
          "text": [
            "x =\n",
            "[[43 15 40 25 24]\n",
            " [62 42 24 18 15]\n",
            " [57 62 24 14 57]\n",
            " [15 57 24 33 28]\n",
            " [57  4 11 45 35]]\n",
            "Y =\n",
            "[[15 40 25 24 23]\n",
            " [42 24 18 15 57]\n",
            " [62 24 14 57 24]\n",
            " [57 24 33 28 18]\n",
            " [ 4 11 45 35 16]]\n",
            "x =\n",
            "[[23 16 33 15 57]\n",
            " [57 16 42  1 15]\n",
            " [24  3 57 62 33]\n",
            " [18 15 57 16 62]\n",
            " [16 42 24 42 35]]\n",
            "Y =\n",
            "[[16 33 15 57 43]\n",
            " [16 42  1 15 62]\n",
            " [ 3 57 62 33 57]\n",
            " [15 57 16 62 15]\n",
            " [42 24 42 35 57]]\n"
          ],
          "name": "stdout"
        }
      ]
    },
    {
      "metadata": {
        "id": "De8p3Md8yv0R",
        "colab_type": "text"
      },
      "cell_type": "markdown",
      "source": [
        "<h2>Building the model</h2>"
      ]
    },
    {
      "metadata": {
        "id": "rJrlQWvPnHOy",
        "colab_type": "code",
        "outputId": "e3e26078-dad7-4521-8178-170bd1ddf8b5",
        "colab": {
          "base_uri": "https://localhost:8080/",
          "height": 34
        }
      },
      "cell_type": "code",
      "source": [
        "#testing for gpu availibility\n",
        "device = torch.device(\"cuda\") if torch.cuda.is_available() else torch.device(\"cpu\")\n",
        "device"
      ],
      "execution_count": 10,
      "outputs": [
        {
          "output_type": "execute_result",
          "data": {
            "text/plain": [
              "device(type='cuda')"
            ]
          },
          "metadata": {
            "tags": []
          },
          "execution_count": 10
        }
      ]
    },
    {
      "metadata": {
        "id": "hYlbiskMsD3W",
        "colab_type": "code",
        "colab": {}
      },
      "cell_type": "code",
      "source": [
        "class CharLSTM(nn.Module):\n",
        "  #class for the model\n",
        "  \n",
        "  def __init__(self, tokens_len, n_hidden=256, n_layers=2, drop_prob=0.5):\n",
        "    \n",
        "    super().__init__()\n",
        "    \n",
        "    self.chars_len = tokens_len#length of dictionary\n",
        "    self.n_hidden = n_hidden#no. of hidden layers \n",
        "    self.n_layers = n_layers#no. of layers of LSTM cell\n",
        "    self.drop_prob = drop_prob#dropout probability for regularization\n",
        "    \n",
        "    #LSTM layer of the model\n",
        "    self.lstm = nn.LSTM(self.chars_len, self.n_hidden, self.n_layers, dropout=self.drop_prob, batch_first=True)\n",
        "    \n",
        "    #Dropout layer of the model\n",
        "    self.dropout = nn.Dropout(self.drop_prob)\n",
        "    \n",
        "    #Fully connected layer of the model\n",
        "    self.fc = nn.Linear(self.n_hidden, self.chars_len)\n",
        "    \n",
        "    \n",
        "  def forward(self, x, hidden):\n",
        "    \n",
        "    output_r, hidden_out = self.lstm(x, hidden)\n",
        "    \n",
        "    out = self.dropout(output_r)\n",
        "    \n",
        "    #contiguos is used to reshape output of stacked LSTM cells\n",
        "    out = out.contiguous().view(-1,self.n_hidden)\n",
        "    \n",
        "    out = self.fc(out)\n",
        "    \n",
        "    return out, hidden_out\n",
        "  \n",
        "  \n",
        "  def init_hidden(self, batch_size, device):\n",
        "    #method to initialize hidden layer for the model\n",
        "    \n",
        "    weights = next(self.parameters()).data\n",
        "    \n",
        "    hidden = (weights.new(self.n_layers, batch_size, self.n_hidden).zero_().to(device),\n",
        "             weights.new(self.n_layers, batch_size, self.n_hidden).zero_().to(device))\n",
        "    \n",
        "    return hidden"
      ],
      "execution_count": 0,
      "outputs": []
    },
    {
      "metadata": {
        "id": "fLnW_MyW04gl",
        "colab_type": "text"
      },
      "cell_type": "markdown",
      "source": [
        "<h2>Training the model</h2>"
      ]
    },
    {
      "metadata": {
        "id": "aiqS-2Y49qG_",
        "colab_type": "code",
        "colab": {}
      },
      "cell_type": "code",
      "source": [
        "def train(model, data, epoch=20, batch_size=10, seq_len=50, lr=0.001, clip=5, val_frac=0.1, print_every=10):\n",
        "  \"\"\"train method is used to train the model \n",
        "  \n",
        "  model: CharLSTM object to be trained \n",
        "  data: data to be used to train the model. Data should be converted to int\n",
        "  batch_size: no. of sequences in each batch\n",
        "  seq_len: no. of characters in each sequence\n",
        "  lr: learning rate used by the optimizer to train the model\n",
        "  clip: clip the gradient for lstm to avoid exploding gradient\n",
        "  val_frac: fraction of data to be used for validation\n",
        "  print_every: number of steps to print training and validation loss\"\"\"\n",
        "  \n",
        "  #explicitly moving model to training mode\n",
        "  model.train()\n",
        "  \n",
        "  #initialising optimizer for the model\n",
        "  optim = torch.optim.Adam(model.parameters(), lr=lr)\n",
        "\n",
        "  #intialising loss function for the model\n",
        "  criterion = nn.CrossEntropyLoss()\n",
        "  \n",
        "  #splitting validation and training data\n",
        "  val_idx = int(len(data) * (1 - val_frac))\n",
        "  data, val_data = data[:val_idx], data[val_idx:]\n",
        "  \n",
        "  model = model.to(device)\n",
        "  \n",
        "  counter = 0\n",
        "  n_chars = model.chars_len\n",
        "  train_losses = []\n",
        "  valid_losses = []\n",
        "  \n",
        "  for e in range(epoch):\n",
        "    \n",
        "    #initialising hidden layers\n",
        "    h = model.init_hidden(batch_size, device)\n",
        "    \n",
        "    #for every batch\n",
        "    for x,y in get_batches(data, batch_size, seq_len):\n",
        "      \n",
        "      counter += 1\n",
        "      \n",
        "      \n",
        "      x = one_hot_encoding(x, n_chars)\n",
        "      inputs, targets = torch.from_numpy(x).to(device), torch.from_numpy(y).to(device)\n",
        "      \n",
        "      h = tuple([each.data for each in h])\n",
        "      \n",
        "      #clearing gradients on model parameters, if any\n",
        "      model.zero_grad()\n",
        "      \n",
        "      #feedforward \n",
        "      output, h = model(inputs, h)\n",
        "          \n",
        "      #calculationg loss\n",
        "      loss = criterion(output, targets.view(batch_size * seq_len))\n",
        "      \n",
        "      #backpropogation\n",
        "      loss.backward()\n",
        "      \n",
        "      #clearing extra gradient\n",
        "      nn.utils.clip_grad_norm_(model.parameters(), clip)\n",
        "      \n",
        "      #optimiser step\n",
        "      optim.step()\n",
        "      \n",
        "      #checking validation loss\n",
        "      if counter % print_every == 0:\n",
        "        \n",
        "        val_h = model.init_hidden(batch_size, device)\n",
        "        \n",
        "        val_losses = []\n",
        "        \n",
        "        #explicitly moving model to evaluation mode\n",
        "        model.eval()\n",
        "        \n",
        "        for x,y in get_batches(val_data, batch_size, seq_len):\n",
        "          \n",
        "          x = one_hot_encoding(x, n_chars)\n",
        "          \n",
        "          inputs, targets = torch.from_numpy(x).to(device), torch.from_numpy(y).to(device)\n",
        "          \n",
        "          val_h = tuple([each.data for each in h])\n",
        "          \n",
        "          output, h = model(inputs, val_h)\n",
        "          \n",
        "          val_loss = criterion(output, targets.view(batch_size * seq_len))\n",
        "          \n",
        "          val_losses.append(val_loss.item())\n",
        "        \n",
        "        model.train()\n",
        "        \n",
        "        train_losses.append(loss.item())\n",
        "        valid_losses.append(np.mean(val_losses))\n",
        "        \n",
        "        print(\"Epoch: {}/{}...\".format(e+1, epochs),\n",
        "                      \"Step: {}...\".format(counter),\n",
        "                      \"Loss: {:.4f}...\".format(train_losses[-1]),\n",
        "                      \"Val Loss: {:.4f}\".format(valid_losses[-1]))\n",
        "        \n",
        "  return train_losses, valid_losses"
      ],
      "execution_count": 0,
      "outputs": []
    },
    {
      "metadata": {
        "id": "PtqJYjxtNfK-",
        "colab_type": "code",
        "outputId": "a0cb75e3-0360-49ab-c3c8-629aef09b3a0",
        "colab": {
          "base_uri": "https://localhost:8080/",
          "height": 102
        }
      },
      "cell_type": "code",
      "source": [
        "#hyperparameters for initialising the model\n",
        "n_hidden = 128\n",
        "n_layers = 2\n",
        "drop_prob = 0.50\n",
        "\n",
        "#initialising the model\n",
        "model = CharLSTM(len(chars), n_hidden=n_hidden, n_layers=n_layers, drop_prob=drop_prob)\n",
        "model"
      ],
      "execution_count": 13,
      "outputs": [
        {
          "output_type": "execute_result",
          "data": {
            "text/plain": [
              "CharLSTM(\n",
              "  (lstm): LSTM(63, 128, num_layers=2, batch_first=True, dropout=0.5)\n",
              "  (dropout): Dropout(p=0.5)\n",
              "  (fc): Linear(in_features=128, out_features=63, bias=True)\n",
              ")"
            ]
          },
          "metadata": {
            "tags": []
          },
          "execution_count": 13
        }
      ]
    },
    {
      "metadata": {
        "id": "CrnkuJmAKzxT",
        "colab_type": "code",
        "outputId": "0e602d86-bc4e-4c26-f08e-5f80c6caac5d",
        "colab": {
          "base_uri": "https://localhost:8080/",
          "height": 7871
        }
      },
      "cell_type": "code",
      "source": [
        "#hyperparameters for training the model\n",
        "epochs = 55\n",
        "lr = 0.001\n",
        "batch_size = 20\n",
        "seq_len = 100\n",
        "\n",
        "#initiating training \n",
        "train_losses, val_losses = train(model, encoded, epoch=epochs, batch_size=batch_size, lr=lr)"
      ],
      "execution_count": 14,
      "outputs": [
        {
          "output_type": "stream",
          "text": [
            "Epoch: 1/55... Step: 10... Loss: 3.8848... Val Loss: 3.7501\n",
            "Epoch: 1/55... Step: 20... Loss: 3.2171... Val Loss: 3.1688\n",
            "Epoch: 1/55... Step: 30... Loss: 3.1652... Val Loss: 3.1302\n",
            "Epoch: 1/55... Step: 40... Loss: 3.1836... Val Loss: 3.1282\n",
            "Epoch: 1/55... Step: 50... Loss: 3.1954... Val Loss: 3.1220\n",
            "Epoch: 1/55... Step: 60... Loss: 3.1452... Val Loss: 3.1205\n",
            "Epoch: 1/55... Step: 70... Loss: 3.1079... Val Loss: 3.1176\n",
            "Epoch: 1/55... Step: 80... Loss: 3.1709... Val Loss: 3.1194\n",
            "Epoch: 2/55... Step: 90... Loss: 3.1793... Val Loss: 3.1178\n",
            "Epoch: 2/55... Step: 100... Loss: 3.1551... Val Loss: 3.1172\n",
            "Epoch: 2/55... Step: 110... Loss: 3.0993... Val Loss: 3.1158\n",
            "Epoch: 2/55... Step: 120... Loss: 3.1990... Val Loss: 3.1175\n",
            "Epoch: 2/55... Step: 130... Loss: 3.1336... Val Loss: 3.1137\n",
            "Epoch: 2/55... Step: 140... Loss: 3.1093... Val Loss: 3.1127\n",
            "Epoch: 2/55... Step: 150... Loss: 3.1053... Val Loss: 3.1093\n",
            "Epoch: 2/55... Step: 160... Loss: 3.1718... Val Loss: 3.1082\n",
            "Epoch: 3/55... Step: 170... Loss: 3.1512... Val Loss: 3.1055\n",
            "Epoch: 3/55... Step: 180... Loss: 3.1270... Val Loss: 3.1004\n",
            "Epoch: 3/55... Step: 190... Loss: 3.0796... Val Loss: 3.0947\n",
            "Epoch: 3/55... Step: 200... Loss: 3.0883... Val Loss: 3.0864\n",
            "Epoch: 3/55... Step: 210... Loss: 3.0771... Val Loss: 3.0742\n",
            "Epoch: 3/55... Step: 220... Loss: 3.0810... Val Loss: 3.0597\n",
            "Epoch: 3/55... Step: 230... Loss: 3.0473... Val Loss: 3.0228\n",
            "Epoch: 3/55... Step: 240... Loss: 2.9995... Val Loss: 2.9782\n",
            "Epoch: 3/55... Step: 250... Loss: 2.9539... Val Loss: 2.9347\n",
            "Epoch: 4/55... Step: 260... Loss: 2.8974... Val Loss: 2.8909\n",
            "Epoch: 4/55... Step: 270... Loss: 2.8973... Val Loss: 2.8502\n",
            "Epoch: 4/55... Step: 280... Loss: 2.8744... Val Loss: 2.8246\n",
            "Epoch: 4/55... Step: 290... Loss: 2.8759... Val Loss: 2.8049\n",
            "Epoch: 4/55... Step: 300... Loss: 2.8453... Val Loss: 2.7543\n",
            "Epoch: 4/55... Step: 310... Loss: 2.8120... Val Loss: 2.7274\n",
            "Epoch: 4/55... Step: 320... Loss: 2.7817... Val Loss: 2.6982\n",
            "Epoch: 4/55... Step: 330... Loss: 2.7800... Val Loss: 2.6610\n",
            "Epoch: 5/55... Step: 340... Loss: 2.6574... Val Loss: 2.6324\n",
            "Epoch: 5/55... Step: 350... Loss: 2.6144... Val Loss: 2.6029\n",
            "Epoch: 5/55... Step: 360... Loss: 2.6197... Val Loss: 2.5760\n",
            "Epoch: 5/55... Step: 370... Loss: 2.6238... Val Loss: 2.5520\n",
            "Epoch: 5/55... Step: 380... Loss: 2.6174... Val Loss: 2.5289\n",
            "Epoch: 5/55... Step: 390... Loss: 2.5700... Val Loss: 2.5162\n",
            "Epoch: 5/55... Step: 400... Loss: 2.5863... Val Loss: 2.4943\n",
            "Epoch: 5/55... Step: 410... Loss: 2.5897... Val Loss: 2.4800\n",
            "Epoch: 5/55... Step: 420... Loss: 2.5758... Val Loss: 2.4628\n",
            "Epoch: 6/55... Step: 430... Loss: 2.5152... Val Loss: 2.4510\n",
            "Epoch: 6/55... Step: 440... Loss: 2.5379... Val Loss: 2.4291\n",
            "Epoch: 6/55... Step: 450... Loss: 2.4677... Val Loss: 2.4173\n",
            "Epoch: 6/55... Step: 460... Loss: 2.4601... Val Loss: 2.4050\n",
            "Epoch: 6/55... Step: 470... Loss: 2.5238... Val Loss: 2.4002\n",
            "Epoch: 6/55... Step: 480... Loss: 2.5065... Val Loss: 2.3962\n",
            "Epoch: 6/55... Step: 490... Loss: 2.4489... Val Loss: 2.3804\n",
            "Epoch: 6/55... Step: 500... Loss: 2.4737... Val Loss: 2.3697\n",
            "Epoch: 7/55... Step: 510... Loss: 2.4925... Val Loss: 2.3616\n",
            "Epoch: 7/55... Step: 520... Loss: 2.4555... Val Loss: 2.3536\n",
            "Epoch: 7/55... Step: 530... Loss: 2.3857... Val Loss: 2.3471\n",
            "Epoch: 7/55... Step: 540... Loss: 2.4759... Val Loss: 2.3462\n",
            "Epoch: 7/55... Step: 550... Loss: 2.4036... Val Loss: 2.3367\n",
            "Epoch: 7/55... Step: 560... Loss: 2.3914... Val Loss: 2.3321\n",
            "Epoch: 7/55... Step: 570... Loss: 2.3769... Val Loss: 2.3280\n",
            "Epoch: 7/55... Step: 580... Loss: 2.4821... Val Loss: 2.3226\n",
            "Epoch: 8/55... Step: 590... Loss: 2.4456... Val Loss: 2.3283\n",
            "Epoch: 8/55... Step: 600... Loss: 2.3848... Val Loss: 2.3167\n",
            "Epoch: 8/55... Step: 610... Loss: 2.3512... Val Loss: 2.3161\n",
            "Epoch: 8/55... Step: 620... Loss: 2.4644... Val Loss: 2.3092\n",
            "Epoch: 8/55... Step: 630... Loss: 2.3800... Val Loss: 2.3048\n",
            "Epoch: 8/55... Step: 640... Loss: 2.3897... Val Loss: 2.3106\n",
            "Epoch: 8/55... Step: 650... Loss: 2.3936... Val Loss: 2.2961\n",
            "Epoch: 8/55... Step: 660... Loss: 2.3475... Val Loss: 2.3008\n",
            "Epoch: 8/55... Step: 670... Loss: 2.3510... Val Loss: 2.3025\n",
            "Epoch: 9/55... Step: 680... Loss: 2.3492... Val Loss: 2.2994\n",
            "Epoch: 9/55... Step: 690... Loss: 2.3719... Val Loss: 2.2852\n",
            "Epoch: 9/55... Step: 700... Loss: 2.3344... Val Loss: 2.2809\n",
            "Epoch: 9/55... Step: 710... Loss: 2.4322... Val Loss: 2.2822\n",
            "Epoch: 9/55... Step: 720... Loss: 2.3542... Val Loss: 2.2742\n",
            "Epoch: 9/55... Step: 730... Loss: 2.3837... Val Loss: 2.2746\n",
            "Epoch: 9/55... Step: 740... Loss: 2.3688... Val Loss: 2.2718\n",
            "Epoch: 9/55... Step: 750... Loss: 2.3893... Val Loss: 2.2720\n",
            "Epoch: 10/55... Step: 760... Loss: 2.3412... Val Loss: 2.2779\n",
            "Epoch: 10/55... Step: 770... Loss: 2.2631... Val Loss: 2.2651\n",
            "Epoch: 10/55... Step: 780... Loss: 2.2602... Val Loss: 2.2602\n",
            "Epoch: 10/55... Step: 790... Loss: 2.3283... Val Loss: 2.2560\n",
            "Epoch: 10/55... Step: 800... Loss: 2.3237... Val Loss: 2.2522\n",
            "Epoch: 10/55... Step: 810... Loss: 2.3017... Val Loss: 2.2550\n",
            "Epoch: 10/55... Step: 820... Loss: 2.3607... Val Loss: 2.2506\n",
            "Epoch: 10/55... Step: 830... Loss: 2.3701... Val Loss: 2.2479\n",
            "Epoch: 10/55... Step: 840... Loss: 2.3403... Val Loss: 2.2487\n",
            "Epoch: 11/55... Step: 850... Loss: 2.2927... Val Loss: 2.2430\n",
            "Epoch: 11/55... Step: 860... Loss: 2.3711... Val Loss: 2.2363\n",
            "Epoch: 11/55... Step: 870... Loss: 2.2774... Val Loss: 2.2332\n",
            "Epoch: 11/55... Step: 880... Loss: 2.2838... Val Loss: 2.2309\n",
            "Epoch: 11/55... Step: 890... Loss: 2.3352... Val Loss: 2.2290\n",
            "Epoch: 11/55... Step: 900... Loss: 2.3277... Val Loss: 2.2288\n",
            "Epoch: 11/55... Step: 910... Loss: 2.2748... Val Loss: 2.2271\n",
            "Epoch: 11/55... Step: 920... Loss: 2.2863... Val Loss: 2.2233\n",
            "Epoch: 12/55... Step: 930... Loss: 2.3442... Val Loss: 2.2187\n",
            "Epoch: 12/55... Step: 940... Loss: 2.2915... Val Loss: 2.2175\n",
            "Epoch: 12/55... Step: 950... Loss: 2.2442... Val Loss: 2.2156\n",
            "Epoch: 12/55... Step: 960... Loss: 2.3302... Val Loss: 2.2122\n",
            "Epoch: 12/55... Step: 970... Loss: 2.2403... Val Loss: 2.2089\n",
            "Epoch: 12/55... Step: 980... Loss: 2.2825... Val Loss: 2.2074\n",
            "Epoch: 12/55... Step: 990... Loss: 2.2207... Val Loss: 2.2076\n",
            "Epoch: 12/55... Step: 1000... Loss: 2.3169... Val Loss: 2.2015\n",
            "Epoch: 13/55... Step: 1010... Loss: 2.3346... Val Loss: 2.2000\n",
            "Epoch: 13/55... Step: 1020... Loss: 2.2315... Val Loss: 2.1980\n",
            "Epoch: 13/55... Step: 1030... Loss: 2.2150... Val Loss: 2.1939\n",
            "Epoch: 13/55... Step: 1040... Loss: 2.2859... Val Loss: 2.1892\n",
            "Epoch: 13/55... Step: 1050... Loss: 2.2355... Val Loss: 2.1849\n",
            "Epoch: 13/55... Step: 1060... Loss: 2.2312... Val Loss: 2.1849\n",
            "Epoch: 13/55... Step: 1070... Loss: 2.2348... Val Loss: 2.1813\n",
            "Epoch: 13/55... Step: 1080... Loss: 2.2144... Val Loss: 2.1768\n",
            "Epoch: 13/55... Step: 1090... Loss: 2.2296... Val Loss: 2.1770\n",
            "Epoch: 14/55... Step: 1100... Loss: 2.2062... Val Loss: 2.1747\n",
            "Epoch: 14/55... Step: 1110... Loss: 2.2925... Val Loss: 2.1717\n",
            "Epoch: 14/55... Step: 1120... Loss: 2.2056... Val Loss: 2.1658\n",
            "Epoch: 14/55... Step: 1130... Loss: 2.2784... Val Loss: 2.1669\n",
            "Epoch: 14/55... Step: 1140... Loss: 2.2426... Val Loss: 2.1605\n",
            "Epoch: 14/55... Step: 1150... Loss: 2.2337... Val Loss: 2.1598\n",
            "Epoch: 14/55... Step: 1160... Loss: 2.2553... Val Loss: 2.1571\n",
            "Epoch: 14/55... Step: 1170... Loss: 2.2466... Val Loss: 2.1553\n",
            "Epoch: 15/55... Step: 1180... Loss: 2.1967... Val Loss: 2.1516\n",
            "Epoch: 15/55... Step: 1190... Loss: 2.1322... Val Loss: 2.1485\n",
            "Epoch: 15/55... Step: 1200... Loss: 2.1379... Val Loss: 2.1390\n",
            "Epoch: 15/55... Step: 1210... Loss: 2.1846... Val Loss: 2.1360\n",
            "Epoch: 15/55... Step: 1220... Loss: 2.1938... Val Loss: 2.1308\n",
            "Epoch: 15/55... Step: 1230... Loss: 2.1812... Val Loss: 2.1308\n",
            "Epoch: 15/55... Step: 1240... Loss: 2.2421... Val Loss: 2.1256\n",
            "Epoch: 15/55... Step: 1250... Loss: 2.2605... Val Loss: 2.1211\n",
            "Epoch: 15/55... Step: 1260... Loss: 2.1827... Val Loss: 2.1209\n",
            "Epoch: 16/55... Step: 1270... Loss: 2.1604... Val Loss: 2.1238\n",
            "Epoch: 16/55... Step: 1280... Loss: 2.2408... Val Loss: 2.1089\n",
            "Epoch: 16/55... Step: 1290... Loss: 2.1735... Val Loss: 2.1068\n",
            "Epoch: 16/55... Step: 1300... Loss: 2.1435... Val Loss: 2.1007\n",
            "Epoch: 16/55... Step: 1310... Loss: 2.2200... Val Loss: 2.0982\n",
            "Epoch: 16/55... Step: 1320... Loss: 2.1713... Val Loss: 2.0963\n",
            "Epoch: 16/55... Step: 1330... Loss: 2.1717... Val Loss: 2.0953\n",
            "Epoch: 16/55... Step: 1340... Loss: 2.1600... Val Loss: 2.0906\n",
            "Epoch: 17/55... Step: 1350... Loss: 2.1861... Val Loss: 2.0882\n",
            "Epoch: 17/55... Step: 1360... Loss: 2.1621... Val Loss: 2.0819\n",
            "Epoch: 17/55... Step: 1370... Loss: 2.1451... Val Loss: 2.0794\n",
            "Epoch: 17/55... Step: 1380... Loss: 2.1621... Val Loss: 2.0782\n",
            "Epoch: 17/55... Step: 1390... Loss: 2.1481... Val Loss: 2.0751\n",
            "Epoch: 17/55... Step: 1400... Loss: 2.1207... Val Loss: 2.0720\n",
            "Epoch: 17/55... Step: 1410... Loss: 2.0454... Val Loss: 2.0701\n",
            "Epoch: 17/55... Step: 1420... Loss: 2.1905... Val Loss: 2.0647\n",
            "Epoch: 18/55... Step: 1430... Loss: 2.1588... Val Loss: 2.0646\n",
            "Epoch: 18/55... Step: 1440... Loss: 2.0992... Val Loss: 2.0651\n",
            "Epoch: 18/55... Step: 1450... Loss: 2.0922... Val Loss: 2.0572\n",
            "Epoch: 18/55... Step: 1460... Loss: 2.1335... Val Loss: 2.0553\n",
            "Epoch: 18/55... Step: 1470... Loss: 2.0835... Val Loss: 2.0497\n",
            "Epoch: 18/55... Step: 1480... Loss: 2.1136... Val Loss: 2.0532\n",
            "Epoch: 18/55... Step: 1490... Loss: 2.1052... Val Loss: 2.0514\n",
            "Epoch: 18/55... Step: 1500... Loss: 2.0776... Val Loss: 2.0519\n",
            "Epoch: 18/55... Step: 1510... Loss: 2.0683... Val Loss: 2.0460\n",
            "Epoch: 19/55... Step: 1520... Loss: 2.1181... Val Loss: 2.0398\n",
            "Epoch: 19/55... Step: 1530... Loss: 2.1354... Val Loss: 2.0410\n",
            "Epoch: 19/55... Step: 1540... Loss: 2.0443... Val Loss: 2.0354\n",
            "Epoch: 19/55... Step: 1550... Loss: 2.1612... Val Loss: 2.0368\n",
            "Epoch: 19/55... Step: 1560... Loss: 2.1378... Val Loss: 2.0343\n",
            "Epoch: 19/55... Step: 1570... Loss: 2.1246... Val Loss: 2.0350\n",
            "Epoch: 19/55... Step: 1580... Loss: 2.1256... Val Loss: 2.0316\n",
            "Epoch: 19/55... Step: 1590... Loss: 2.1299... Val Loss: 2.0247\n",
            "Epoch: 20/55... Step: 1600... Loss: 2.0982... Val Loss: 2.0260\n",
            "Epoch: 20/55... Step: 1610... Loss: 2.0167... Val Loss: 2.0257\n",
            "Epoch: 20/55... Step: 1620... Loss: 2.0387... Val Loss: 2.0226\n",
            "Epoch: 20/55... Step: 1630... Loss: 2.0390... Val Loss: 2.0196\n",
            "Epoch: 20/55... Step: 1640... Loss: 2.0989... Val Loss: 2.0165\n",
            "Epoch: 20/55... Step: 1650... Loss: 2.0678... Val Loss: 2.0198\n",
            "Epoch: 20/55... Step: 1660... Loss: 2.1309... Val Loss: 2.0158\n",
            "Epoch: 20/55... Step: 1670... Loss: 2.1252... Val Loss: 2.0053\n",
            "Epoch: 20/55... Step: 1680... Loss: 2.0881... Val Loss: 2.0070\n",
            "Epoch: 21/55... Step: 1690... Loss: 2.0737... Val Loss: 2.0057\n",
            "Epoch: 21/55... Step: 1700... Loss: 2.0964... Val Loss: 2.0017\n",
            "Epoch: 21/55... Step: 1710... Loss: 2.0134... Val Loss: 1.9995\n",
            "Epoch: 21/55... Step: 1720... Loss: 2.0261... Val Loss: 1.9993\n",
            "Epoch: 21/55... Step: 1730... Loss: 2.0987... Val Loss: 1.9971\n",
            "Epoch: 21/55... Step: 1740... Loss: 2.0752... Val Loss: 1.9982\n",
            "Epoch: 21/55... Step: 1750... Loss: 2.0407... Val Loss: 2.0019\n",
            "Epoch: 21/55... Step: 1760... Loss: 2.0484... Val Loss: 1.9964\n",
            "Epoch: 22/55... Step: 1770... Loss: 2.0840... Val Loss: 1.9948\n",
            "Epoch: 22/55... Step: 1780... Loss: 2.0356... Val Loss: 1.9937\n",
            "Epoch: 22/55... Step: 1790... Loss: 2.0367... Val Loss: 1.9895\n",
            "Epoch: 22/55... Step: 1800... Loss: 2.0868... Val Loss: 1.9885\n",
            "Epoch: 22/55... Step: 1810... Loss: 2.0750... Val Loss: 1.9858\n",
            "Epoch: 22/55... Step: 1820... Loss: 2.0307... Val Loss: 1.9863\n",
            "Epoch: 22/55... Step: 1830... Loss: 1.9644... Val Loss: 1.9856\n",
            "Epoch: 22/55... Step: 1840... Loss: 2.0807... Val Loss: 1.9801\n",
            "Epoch: 23/55... Step: 1850... Loss: 2.1212... Val Loss: 1.9817\n",
            "Epoch: 23/55... Step: 1860... Loss: 2.0007... Val Loss: 1.9788\n",
            "Epoch: 23/55... Step: 1870... Loss: 2.0346... Val Loss: 1.9745\n",
            "Epoch: 23/55... Step: 1880... Loss: 2.0316... Val Loss: 1.9758\n",
            "Epoch: 23/55... Step: 1890... Loss: 1.9978... Val Loss: 1.9717\n",
            "Epoch: 23/55... Step: 1900... Loss: 1.9982... Val Loss: 1.9731\n",
            "Epoch: 23/55... Step: 1910... Loss: 1.9879... Val Loss: 1.9706\n",
            "Epoch: 23/55... Step: 1920... Loss: 1.9755... Val Loss: 1.9686\n",
            "Epoch: 23/55... Step: 1930... Loss: 1.9880... Val Loss: 1.9678\n",
            "Epoch: 24/55... Step: 1940... Loss: 2.0022... Val Loss: 1.9695\n",
            "Epoch: 24/55... Step: 1950... Loss: 2.0329... Val Loss: 1.9665\n",
            "Epoch: 24/55... Step: 1960... Loss: 1.9707... Val Loss: 1.9635\n",
            "Epoch: 24/55... Step: 1970... Loss: 2.0618... Val Loss: 1.9638\n",
            "Epoch: 24/55... Step: 1980... Loss: 2.0634... Val Loss: 1.9591\n",
            "Epoch: 24/55... Step: 1990... Loss: 2.0415... Val Loss: 1.9605\n",
            "Epoch: 24/55... Step: 2000... Loss: 2.0507... Val Loss: 1.9581\n",
            "Epoch: 24/55... Step: 2010... Loss: 2.0498... Val Loss: 1.9528\n",
            "Epoch: 25/55... Step: 2020... Loss: 2.0069... Val Loss: 1.9531\n",
            "Epoch: 25/55... Step: 2030... Loss: 1.9142... Val Loss: 1.9514\n",
            "Epoch: 25/55... Step: 2040... Loss: 1.9726... Val Loss: 1.9488\n",
            "Epoch: 25/55... Step: 2050... Loss: 1.9872... Val Loss: 1.9510\n",
            "Epoch: 25/55... Step: 2060... Loss: 2.0106... Val Loss: 1.9454\n",
            "Epoch: 25/55... Step: 2070... Loss: 2.0322... Val Loss: 1.9462\n",
            "Epoch: 25/55... Step: 2080... Loss: 2.0321... Val Loss: 1.9445\n",
            "Epoch: 25/55... Step: 2090... Loss: 2.0664... Val Loss: 1.9389\n",
            "Epoch: 25/55... Step: 2100... Loss: 2.0395... Val Loss: 1.9408\n",
            "Epoch: 26/55... Step: 2110... Loss: 2.0052... Val Loss: 1.9381\n",
            "Epoch: 26/55... Step: 2120... Loss: 2.0534... Val Loss: 1.9349\n",
            "Epoch: 26/55... Step: 2130... Loss: 1.9625... Val Loss: 1.9333\n",
            "Epoch: 26/55... Step: 2140... Loss: 1.9784... Val Loss: 1.9357\n",
            "Epoch: 26/55... Step: 2150... Loss: 2.0409... Val Loss: 1.9308\n",
            "Epoch: 26/55... Step: 2160... Loss: 1.9972... Val Loss: 1.9343\n",
            "Epoch: 26/55... Step: 2170... Loss: 1.9310... Val Loss: 1.9361\n",
            "Epoch: 26/55... Step: 2180... Loss: 1.9976... Val Loss: 1.9336\n",
            "Epoch: 27/55... Step: 2190... Loss: 2.0053... Val Loss: 1.9367\n",
            "Epoch: 27/55... Step: 2200... Loss: 1.9571... Val Loss: 1.9350\n",
            "Epoch: 27/55... Step: 2210... Loss: 1.9751... Val Loss: 1.9262\n",
            "Epoch: 27/55... Step: 2220... Loss: 2.0080... Val Loss: 1.9277\n",
            "Epoch: 27/55... Step: 2230... Loss: 1.9788... Val Loss: 1.9250\n",
            "Epoch: 27/55... Step: 2240... Loss: 1.9993... Val Loss: 1.9246\n",
            "Epoch: 27/55... Step: 2250... Loss: 1.8556... Val Loss: 1.9241\n",
            "Epoch: 27/55... Step: 2260... Loss: 2.0267... Val Loss: 1.9212\n",
            "Epoch: 28/55... Step: 2270... Loss: 2.0085... Val Loss: 1.9211\n",
            "Epoch: 28/55... Step: 2280... Loss: 1.9444... Val Loss: 1.9195\n",
            "Epoch: 28/55... Step: 2290... Loss: 1.9582... Val Loss: 1.9149\n",
            "Epoch: 28/55... Step: 2300... Loss: 1.9470... Val Loss: 1.9173\n",
            "Epoch: 28/55... Step: 2310... Loss: 1.9048... Val Loss: 1.9143\n",
            "Epoch: 28/55... Step: 2320... Loss: 1.9629... Val Loss: 1.9110\n",
            "Epoch: 28/55... Step: 2330... Loss: 1.9072... Val Loss: 1.9135\n",
            "Epoch: 28/55... Step: 2340... Loss: 1.9120... Val Loss: 1.9108\n",
            "Epoch: 28/55... Step: 2350... Loss: 1.9429... Val Loss: 1.9074\n",
            "Epoch: 29/55... Step: 2360... Loss: 1.9709... Val Loss: 1.9115\n",
            "Epoch: 29/55... Step: 2370... Loss: 1.9922... Val Loss: 1.9084\n",
            "Epoch: 29/55... Step: 2380... Loss: 1.8944... Val Loss: 1.9061\n",
            "Epoch: 29/55... Step: 2390... Loss: 1.9904... Val Loss: 1.9119\n",
            "Epoch: 29/55... Step: 2400... Loss: 1.9697... Val Loss: 1.9017\n",
            "Epoch: 29/55... Step: 2410... Loss: 1.9719... Val Loss: 1.9045\n",
            "Epoch: 29/55... Step: 2420... Loss: 2.0024... Val Loss: 1.9019\n",
            "Epoch: 29/55... Step: 2430... Loss: 1.9859... Val Loss: 1.8977\n",
            "Epoch: 30/55... Step: 2440... Loss: 1.8951... Val Loss: 1.8980\n",
            "Epoch: 30/55... Step: 2450... Loss: 1.8477... Val Loss: 1.9037\n",
            "Epoch: 30/55... Step: 2460... Loss: 1.8938... Val Loss: 1.8971\n",
            "Epoch: 30/55... Step: 2470... Loss: 1.9114... Val Loss: 1.9012\n",
            "Epoch: 30/55... Step: 2480... Loss: 1.9376... Val Loss: 1.8940\n",
            "Epoch: 30/55... Step: 2490... Loss: 1.9701... Val Loss: 1.8958\n",
            "Epoch: 30/55... Step: 2500... Loss: 1.9813... Val Loss: 1.8956\n",
            "Epoch: 30/55... Step: 2510... Loss: 1.9880... Val Loss: 1.8886\n",
            "Epoch: 30/55... Step: 2520... Loss: 1.9617... Val Loss: 1.8899\n",
            "Epoch: 31/55... Step: 2530... Loss: 1.9674... Val Loss: 1.8915\n",
            "Epoch: 31/55... Step: 2540... Loss: 2.0164... Val Loss: 1.8855\n",
            "Epoch: 31/55... Step: 2550... Loss: 1.9075... Val Loss: 1.8865\n",
            "Epoch: 31/55... Step: 2560... Loss: 1.9237... Val Loss: 1.8898\n",
            "Epoch: 31/55... Step: 2570... Loss: 1.9766... Val Loss: 1.8830\n",
            "Epoch: 31/55... Step: 2580... Loss: 1.9515... Val Loss: 1.8865\n",
            "Epoch: 31/55... Step: 2590... Loss: 1.9058... Val Loss: 1.8919\n",
            "Epoch: 31/55... Step: 2600... Loss: 1.9010... Val Loss: 1.8866\n",
            "Epoch: 32/55... Step: 2610... Loss: 1.9420... Val Loss: 1.8840\n",
            "Epoch: 32/55... Step: 2620... Loss: 1.8765... Val Loss: 1.8806\n",
            "Epoch: 32/55... Step: 2630... Loss: 1.9263... Val Loss: 1.8791\n",
            "Epoch: 32/55... Step: 2640... Loss: 1.9280... Val Loss: 1.8838\n",
            "Epoch: 32/55... Step: 2650... Loss: 1.9719... Val Loss: 1.8787\n",
            "Epoch: 32/55... Step: 2660... Loss: 1.9443... Val Loss: 1.8775\n",
            "Epoch: 32/55... Step: 2670... Loss: 1.8404... Val Loss: 1.8773\n",
            "Epoch: 32/55... Step: 2680... Loss: 1.9454... Val Loss: 1.8743\n",
            "Epoch: 33/55... Step: 2690... Loss: 1.9693... Val Loss: 1.8751\n",
            "Epoch: 33/55... Step: 2700... Loss: 1.8545... Val Loss: 1.8761\n",
            "Epoch: 33/55... Step: 2710... Loss: 1.9151... Val Loss: 1.8707\n",
            "Epoch: 33/55... Step: 2720... Loss: 1.8673... Val Loss: 1.8729\n",
            "Epoch: 33/55... Step: 2730... Loss: 1.8619... Val Loss: 1.8698\n",
            "Epoch: 33/55... Step: 2740... Loss: 1.9082... Val Loss: 1.8660\n",
            "Epoch: 33/55... Step: 2750... Loss: 1.8504... Val Loss: 1.8683\n",
            "Epoch: 33/55... Step: 2760... Loss: 1.8863... Val Loss: 1.8702\n",
            "Epoch: 33/55... Step: 2770... Loss: 1.8664... Val Loss: 1.8689\n",
            "Epoch: 34/55... Step: 2780... Loss: 1.9007... Val Loss: 1.8666\n",
            "Epoch: 34/55... Step: 2790... Loss: 1.9067... Val Loss: 1.8641\n",
            "Epoch: 34/55... Step: 2800... Loss: 1.8435... Val Loss: 1.8686\n",
            "Epoch: 34/55... Step: 2810... Loss: 1.9273... Val Loss: 1.8668\n",
            "Epoch: 34/55... Step: 2820... Loss: 1.9151... Val Loss: 1.8622\n",
            "Epoch: 34/55... Step: 2830... Loss: 1.8812... Val Loss: 1.8638\n",
            "Epoch: 34/55... Step: 2840... Loss: 1.9875... Val Loss: 1.8637\n",
            "Epoch: 34/55... Step: 2850... Loss: 1.9227... Val Loss: 1.8591\n",
            "Epoch: 35/55... Step: 2860... Loss: 1.8618... Val Loss: 1.8561\n",
            "Epoch: 35/55... Step: 2870... Loss: 1.8271... Val Loss: 1.8600\n",
            "Epoch: 35/55... Step: 2880... Loss: 1.8677... Val Loss: 1.8561\n",
            "Epoch: 35/55... Step: 2890... Loss: 1.8308... Val Loss: 1.8556\n",
            "Epoch: 35/55... Step: 2900... Loss: 1.9260... Val Loss: 1.8544\n",
            "Epoch: 35/55... Step: 2910... Loss: 1.9176... Val Loss: 1.8538\n",
            "Epoch: 35/55... Step: 2920... Loss: 1.9194... Val Loss: 1.8554\n",
            "Epoch: 35/55... Step: 2930... Loss: 1.9113... Val Loss: 1.8502\n",
            "Epoch: 35/55... Step: 2940... Loss: 1.9200... Val Loss: 1.8597\n",
            "Epoch: 36/55... Step: 2950... Loss: 1.9179... Val Loss: 1.8562\n",
            "Epoch: 36/55... Step: 2960... Loss: 1.9563... Val Loss: 1.8472\n",
            "Epoch: 36/55... Step: 2970... Loss: 1.8671... Val Loss: 1.8467\n",
            "Epoch: 36/55... Step: 2980... Loss: 1.8740... Val Loss: 1.8481\n",
            "Epoch: 36/55... Step: 2990... Loss: 1.8905... Val Loss: 1.8475\n",
            "Epoch: 36/55... Step: 3000... Loss: 1.8844... Val Loss: 1.8496\n",
            "Epoch: 36/55... Step: 3010... Loss: 1.8419... Val Loss: 1.8491\n",
            "Epoch: 36/55... Step: 3020... Loss: 1.8826... Val Loss: 1.8499\n",
            "Epoch: 37/55... Step: 3030... Loss: 1.8932... Val Loss: 1.8471\n",
            "Epoch: 37/55... Step: 3040... Loss: 1.8596... Val Loss: 1.8448\n",
            "Epoch: 37/55... Step: 3050... Loss: 1.8506... Val Loss: 1.8472\n",
            "Epoch: 37/55... Step: 3060... Loss: 1.8917... Val Loss: 1.8450\n",
            "Epoch: 37/55... Step: 3070... Loss: 1.9284... Val Loss: 1.8416\n",
            "Epoch: 37/55... Step: 3080... Loss: 1.8794... Val Loss: 1.8403\n",
            "Epoch: 37/55... Step: 3090... Loss: 1.7756... Val Loss: 1.8437\n",
            "Epoch: 37/55... Step: 3100... Loss: 1.9039... Val Loss: 1.8406\n",
            "Epoch: 38/55... Step: 3110... Loss: 1.9074... Val Loss: 1.8412\n",
            "Epoch: 38/55... Step: 3120... Loss: 1.8499... Val Loss: 1.8405\n",
            "Epoch: 38/55... Step: 3130... Loss: 1.8526... Val Loss: 1.8354\n",
            "Epoch: 38/55... Step: 3140... Loss: 1.8312... Val Loss: 1.8428\n",
            "Epoch: 38/55... Step: 3150... Loss: 1.8223... Val Loss: 1.8390\n",
            "Epoch: 38/55... Step: 3160... Loss: 1.8497... Val Loss: 1.8350\n",
            "Epoch: 38/55... Step: 3170... Loss: 1.8162... Val Loss: 1.8363\n",
            "Epoch: 38/55... Step: 3180... Loss: 1.8138... Val Loss: 1.8351\n",
            "Epoch: 38/55... Step: 3190... Loss: 1.8065... Val Loss: 1.8311\n",
            "Epoch: 39/55... Step: 3200... Loss: 1.8587... Val Loss: 1.8327\n",
            "Epoch: 39/55... Step: 3210... Loss: 1.8471... Val Loss: 1.8329\n",
            "Epoch: 39/55... Step: 3220... Loss: 1.8022... Val Loss: 1.8345\n",
            "Epoch: 39/55... Step: 3230... Loss: 1.8586... Val Loss: 1.8329\n",
            "Epoch: 39/55... Step: 3240... Loss: 1.8687... Val Loss: 1.8263\n",
            "Epoch: 39/55... Step: 3250... Loss: 1.8526... Val Loss: 1.8302\n",
            "Epoch: 39/55... Step: 3260... Loss: 1.8899... Val Loss: 1.8307\n",
            "Epoch: 39/55... Step: 3270... Loss: 1.8739... Val Loss: 1.8307\n",
            "Epoch: 40/55... Step: 3280... Loss: 1.8373... Val Loss: 1.8228\n",
            "Epoch: 40/55... Step: 3290... Loss: 1.7830... Val Loss: 1.8288\n",
            "Epoch: 40/55... Step: 3300... Loss: 1.8064... Val Loss: 1.8268\n",
            "Epoch: 40/55... Step: 3310... Loss: 1.7917... Val Loss: 1.8267\n",
            "Epoch: 40/55... Step: 3320... Loss: 1.8103... Val Loss: 1.8242\n",
            "Epoch: 40/55... Step: 3330... Loss: 1.8628... Val Loss: 1.8221\n",
            "Epoch: 40/55... Step: 3340... Loss: 1.8913... Val Loss: 1.8247\n",
            "Epoch: 40/55... Step: 3350... Loss: 1.8671... Val Loss: 1.8188\n",
            "Epoch: 40/55... Step: 3360... Loss: 1.8674... Val Loss: 1.8234\n",
            "Epoch: 41/55... Step: 3370... Loss: 1.8516... Val Loss: 1.8255\n",
            "Epoch: 41/55... Step: 3380... Loss: 1.8910... Val Loss: 1.8187\n",
            "Epoch: 41/55... Step: 3390... Loss: 1.8274... Val Loss: 1.8222\n",
            "Epoch: 41/55... Step: 3400... Loss: 1.8020... Val Loss: 1.8155\n",
            "Epoch: 41/55... Step: 3410... Loss: 1.8249... Val Loss: 1.8226\n",
            "Epoch: 41/55... Step: 3420... Loss: 1.8377... Val Loss: 1.8200\n",
            "Epoch: 41/55... Step: 3430... Loss: 1.8230... Val Loss: 1.8228\n",
            "Epoch: 41/55... Step: 3440... Loss: 1.8481... Val Loss: 1.8196\n",
            "Epoch: 42/55... Step: 3450... Loss: 1.8549... Val Loss: 1.8170\n",
            "Epoch: 42/55... Step: 3460... Loss: 1.8129... Val Loss: 1.8162\n",
            "Epoch: 42/55... Step: 3470... Loss: 1.8438... Val Loss: 1.8204\n",
            "Epoch: 42/55... Step: 3480... Loss: 1.8455... Val Loss: 1.8168\n",
            "Epoch: 42/55... Step: 3490... Loss: 1.8430... Val Loss: 1.8138\n",
            "Epoch: 42/55... Step: 3500... Loss: 1.8365... Val Loss: 1.8129\n",
            "Epoch: 42/55... Step: 3510... Loss: 1.7385... Val Loss: 1.8212\n",
            "Epoch: 42/55... Step: 3520... Loss: 1.8332... Val Loss: 1.8133\n",
            "Epoch: 43/55... Step: 3530... Loss: 1.9029... Val Loss: 1.8143\n",
            "Epoch: 43/55... Step: 3540... Loss: 1.7931... Val Loss: 1.8155\n",
            "Epoch: 43/55... Step: 3550... Loss: 1.8206... Val Loss: 1.8095\n",
            "Epoch: 43/55... Step: 3560... Loss: 1.7871... Val Loss: 1.8148\n",
            "Epoch: 43/55... Step: 3570... Loss: 1.8038... Val Loss: 1.8096\n",
            "Epoch: 43/55... Step: 3580... Loss: 1.8736... Val Loss: 1.8193\n",
            "Epoch: 43/55... Step: 3590... Loss: 1.7619... Val Loss: 1.8095\n",
            "Epoch: 43/55... Step: 3600... Loss: 1.7780... Val Loss: 1.8095\n",
            "Epoch: 43/55... Step: 3610... Loss: 1.7880... Val Loss: 1.8127\n",
            "Epoch: 44/55... Step: 3620... Loss: 1.8279... Val Loss: 1.8087\n",
            "Epoch: 44/55... Step: 3630... Loss: 1.8234... Val Loss: 1.8115\n",
            "Epoch: 44/55... Step: 3640... Loss: 1.7903... Val Loss: 1.8129\n",
            "Epoch: 44/55... Step: 3650... Loss: 1.8491... Val Loss: 1.8095\n",
            "Epoch: 44/55... Step: 3660... Loss: 1.8465... Val Loss: 1.8015\n",
            "Epoch: 44/55... Step: 3670... Loss: 1.8199... Val Loss: 1.8051\n",
            "Epoch: 44/55... Step: 3680... Loss: 1.8801... Val Loss: 1.8039\n",
            "Epoch: 44/55... Step: 3690... Loss: 1.8131... Val Loss: 1.8033\n",
            "Epoch: 45/55... Step: 3700... Loss: 1.8071... Val Loss: 1.7997\n",
            "Epoch: 45/55... Step: 3710... Loss: 1.7558... Val Loss: 1.8065\n",
            "Epoch: 45/55... Step: 3720... Loss: 1.7978... Val Loss: 1.8019\n",
            "Epoch: 45/55... Step: 3730... Loss: 1.7623... Val Loss: 1.8066\n",
            "Epoch: 45/55... Step: 3740... Loss: 1.8139... Val Loss: 1.8024\n",
            "Epoch: 45/55... Step: 3750... Loss: 1.8144... Val Loss: 1.7987\n",
            "Epoch: 45/55... Step: 3760... Loss: 1.8572... Val Loss: 1.8019\n",
            "Epoch: 45/55... Step: 3770... Loss: 1.8713... Val Loss: 1.7991\n",
            "Epoch: 45/55... Step: 3780... Loss: 1.8243... Val Loss: 1.8096\n",
            "Epoch: 46/55... Step: 3790... Loss: 1.8165... Val Loss: 1.8006\n",
            "Epoch: 46/55... Step: 3800... Loss: 1.8532... Val Loss: 1.7943\n",
            "Epoch: 46/55... Step: 3810... Loss: 1.7939... Val Loss: 1.7967\n",
            "Epoch: 46/55... Step: 3820... Loss: 1.7892... Val Loss: 1.7910\n",
            "Epoch: 46/55... Step: 3830... Loss: 1.8036... Val Loss: 1.7927\n",
            "Epoch: 46/55... Step: 3840... Loss: 1.7994... Val Loss: 1.7963\n",
            "Epoch: 46/55... Step: 3850... Loss: 1.7780... Val Loss: 1.7990\n",
            "Epoch: 46/55... Step: 3860... Loss: 1.7990... Val Loss: 1.7936\n",
            "Epoch: 47/55... Step: 3870... Loss: 1.8249... Val Loss: 1.7973\n",
            "Epoch: 47/55... Step: 3880... Loss: 1.7685... Val Loss: 1.8006\n",
            "Epoch: 47/55... Step: 3890... Loss: 1.8137... Val Loss: 1.7954\n",
            "Epoch: 47/55... Step: 3900... Loss: 1.8347... Val Loss: 1.7955\n",
            "Epoch: 47/55... Step: 3910... Loss: 1.8365... Val Loss: 1.7925\n",
            "Epoch: 47/55... Step: 3920... Loss: 1.8335... Val Loss: 1.7917\n",
            "Epoch: 47/55... Step: 3930... Loss: 1.7019... Val Loss: 1.7929\n",
            "Epoch: 47/55... Step: 3940... Loss: 1.8237... Val Loss: 1.7950\n",
            "Epoch: 48/55... Step: 3950... Loss: 1.8571... Val Loss: 1.7926\n",
            "Epoch: 48/55... Step: 3960... Loss: 1.7327... Val Loss: 1.7900\n",
            "Epoch: 48/55... Step: 3970... Loss: 1.7752... Val Loss: 1.7888\n",
            "Epoch: 48/55... Step: 3980... Loss: 1.7511... Val Loss: 1.7936\n",
            "Epoch: 48/55... Step: 3990... Loss: 1.7630... Val Loss: 1.7908\n",
            "Epoch: 48/55... Step: 4000... Loss: 1.7899... Val Loss: 1.7911\n",
            "Epoch: 48/55... Step: 4010... Loss: 1.7182... Val Loss: 1.7895\n",
            "Epoch: 48/55... Step: 4020... Loss: 1.7649... Val Loss: 1.7894\n",
            "Epoch: 48/55... Step: 4030... Loss: 1.7600... Val Loss: 1.7904\n",
            "Epoch: 49/55... Step: 4040... Loss: 1.8110... Val Loss: 1.7864\n",
            "Epoch: 49/55... Step: 4050... Loss: 1.7995... Val Loss: 1.7904\n",
            "Epoch: 49/55... Step: 4060... Loss: 1.7200... Val Loss: 1.7907\n",
            "Epoch: 49/55... Step: 4070... Loss: 1.8269... Val Loss: 1.7881\n",
            "Epoch: 49/55... Step: 4080... Loss: 1.8167... Val Loss: 1.7800\n",
            "Epoch: 49/55... Step: 4090... Loss: 1.7943... Val Loss: 1.7841\n",
            "Epoch: 49/55... Step: 4100... Loss: 1.8250... Val Loss: 1.7922\n",
            "Epoch: 49/55... Step: 4110... Loss: 1.8372... Val Loss: 1.7882\n",
            "Epoch: 50/55... Step: 4120... Loss: 1.7558... Val Loss: 1.7803\n",
            "Epoch: 50/55... Step: 4130... Loss: 1.7019... Val Loss: 1.7909\n",
            "Epoch: 50/55... Step: 4140... Loss: 1.7623... Val Loss: 1.7842\n",
            "Epoch: 50/55... Step: 4150... Loss: 1.7204... Val Loss: 1.7870\n",
            "Epoch: 50/55... Step: 4160... Loss: 1.7731... Val Loss: 1.7837\n",
            "Epoch: 50/55... Step: 4170... Loss: 1.7878... Val Loss: 1.7815\n",
            "Epoch: 50/55... Step: 4180... Loss: 1.8053... Val Loss: 1.7849\n",
            "Epoch: 50/55... Step: 4190... Loss: 1.8162... Val Loss: 1.7802\n",
            "Epoch: 50/55... Step: 4200... Loss: 1.7940... Val Loss: 1.7883\n",
            "Epoch: 51/55... Step: 4210... Loss: 1.7957... Val Loss: 1.7836\n",
            "Epoch: 51/55... Step: 4220... Loss: 1.8503... Val Loss: 1.7784\n",
            "Epoch: 51/55... Step: 4230... Loss: 1.7774... Val Loss: 1.7814\n",
            "Epoch: 51/55... Step: 4240... Loss: 1.7516... Val Loss: 1.7743\n",
            "Epoch: 51/55... Step: 4250... Loss: 1.7907... Val Loss: 1.7810\n",
            "Epoch: 51/55... Step: 4260... Loss: 1.7736... Val Loss: 1.7770\n",
            "Epoch: 51/55... Step: 4270... Loss: 1.7143... Val Loss: 1.7838\n",
            "Epoch: 51/55... Step: 4280... Loss: 1.7823... Val Loss: 1.7787\n",
            "Epoch: 52/55... Step: 4290... Loss: 1.7722... Val Loss: 1.7787\n",
            "Epoch: 52/55... Step: 4300... Loss: 1.7187... Val Loss: 1.7861\n",
            "Epoch: 52/55... Step: 4310... Loss: 1.7885... Val Loss: 1.7833\n",
            "Epoch: 52/55... Step: 4320... Loss: 1.7878... Val Loss: 1.7825\n",
            "Epoch: 52/55... Step: 4330... Loss: 1.8108... Val Loss: 1.7756\n",
            "Epoch: 52/55... Step: 4340... Loss: 1.7566... Val Loss: 1.7798\n",
            "Epoch: 52/55... Step: 4350... Loss: 1.6815... Val Loss: 1.7761\n",
            "Epoch: 52/55... Step: 4360... Loss: 1.7756... Val Loss: 1.7759\n",
            "Epoch: 53/55... Step: 4370... Loss: 1.8251... Val Loss: 1.7806\n",
            "Epoch: 53/55... Step: 4380... Loss: 1.7105... Val Loss: 1.7780\n",
            "Epoch: 53/55... Step: 4390... Loss: 1.7498... Val Loss: 1.7766\n",
            "Epoch: 53/55... Step: 4400... Loss: 1.7313... Val Loss: 1.7835\n",
            "Epoch: 53/55... Step: 4410... Loss: 1.7035... Val Loss: 1.7738\n",
            "Epoch: 53/55... Step: 4420... Loss: 1.7807... Val Loss: 1.7720\n",
            "Epoch: 53/55... Step: 4430... Loss: 1.6848... Val Loss: 1.7731\n",
            "Epoch: 53/55... Step: 4440... Loss: 1.7502... Val Loss: 1.7745\n",
            "Epoch: 53/55... Step: 4450... Loss: 1.7218... Val Loss: 1.7772\n",
            "Epoch: 54/55... Step: 4460... Loss: 1.7803... Val Loss: 1.7733\n",
            "Epoch: 54/55... Step: 4470... Loss: 1.7309... Val Loss: 1.7728\n",
            "Epoch: 54/55... Step: 4480... Loss: 1.6958... Val Loss: 1.7715\n",
            "Epoch: 54/55... Step: 4490... Loss: 1.7924... Val Loss: 1.7723\n",
            "Epoch: 54/55... Step: 4500... Loss: 1.7667... Val Loss: 1.7661\n",
            "Epoch: 54/55... Step: 4510... Loss: 1.7980... Val Loss: 1.7714\n",
            "Epoch: 54/55... Step: 4520... Loss: 1.8025... Val Loss: 1.7731\n",
            "Epoch: 54/55... Step: 4530... Loss: 1.7638... Val Loss: 1.7717\n",
            "Epoch: 55/55... Step: 4540... Loss: 1.7208... Val Loss: 1.7686\n",
            "Epoch: 55/55... Step: 4550... Loss: 1.7072... Val Loss: 1.7791\n",
            "Epoch: 55/55... Step: 4560... Loss: 1.7409... Val Loss: 1.7674\n",
            "Epoch: 55/55... Step: 4570... Loss: 1.6814... Val Loss: 1.7657\n",
            "Epoch: 55/55... Step: 4580... Loss: 1.7499... Val Loss: 1.7694\n",
            "Epoch: 55/55... Step: 4590... Loss: 1.7951... Val Loss: 1.7668\n",
            "Epoch: 55/55... Step: 4600... Loss: 1.7938... Val Loss: 1.7708\n",
            "Epoch: 55/55... Step: 4610... Loss: 1.8018... Val Loss: 1.7711\n",
            "Epoch: 55/55... Step: 4620... Loss: 1.7605... Val Loss: 1.7719\n"
          ],
          "name": "stdout"
        }
      ]
    },
    {
      "metadata": {
        "id": "ylMWIpPT2n08",
        "colab_type": "text"
      },
      "cell_type": "markdown",
      "source": [
        "<h2>Analysing and Testing</h2>"
      ]
    },
    {
      "metadata": {
        "id": "27xTn1H5OgNz",
        "colab_type": "code",
        "outputId": "258e5332-3484-40d9-c8a0-a96e0cc36cd8",
        "colab": {
          "base_uri": "https://localhost:8080/",
          "height": 347
        }
      },
      "cell_type": "code",
      "source": [
        "import matplotlib.pyplot as plt\n",
        "\n",
        "#analysising training and validation loss over the training time\n",
        "plt.plot(train_losses)\n",
        "plt.plot(val_losses)\n",
        "plt.legend([\"Training Loss\",\"Validation Loss\"])\n",
        "plt.show()"
      ],
      "execution_count": 15,
      "outputs": [
        {
          "output_type": "display_data",
          "data": {
            "image/png": "[encoded data removed]",
            "text/plain": [
              "<Figure size 576x396 with 1 Axes>"
            ]
          },
          "metadata": {
            "tags": []
          }
        }
      ]
    },
    {
      "metadata": {
        "id": "Unmk1mUByYf3",
        "colab_type": "text"
      },
      "cell_type": "markdown",
      "source": [
        "It is clear from the graph that if the model is trained any further it will overfit the training data. Even after trying with all possible hyperparameters this was the best result. This means that 94k characters aren't sufficient to train our model. Introducing more characters, around 10mil, will allow us to increase the size of our hidden layer which will increase the accuracy of our model."
      ]
    },
    {
      "metadata": {
        "id": "08tVse778u5Z",
        "colab_type": "code",
        "colab": {}
      },
      "cell_type": "code",
      "source": [
        "#saving the model\n",
        "model_name = 'lstm_55_epoch_128_h_50_dp.net'\n",
        "\n",
        "checkpoint = {'n_hidden': model.n_hidden,\n",
        "              'n_layers': model.n_layers,\n",
        "              'state_dict': model.state_dict(),\n",
        "              'chars_len': model.chars_len}\n",
        "\n",
        "with open(model_name, 'wb') as f:\n",
        "    torch.save(checkpoint, f)"
      ],
      "execution_count": 0,
      "outputs": []
    },
    {
      "metadata": {
        "id": "0e5oLejURYrx",
        "colab_type": "code",
        "colab": {}
      },
      "cell_type": "code",
      "source": [
        "import torch.nn.functional as F\n",
        "\n",
        "def predict(model, char, h=None, top_k=None):\n",
        "  ''' method to predict next character in the sequence\n",
        "  \n",
        "  model: model to be used to predict character\n",
        "  char: int of current character, i.e input for the model\n",
        "  h: hidden layer \n",
        "  top_k: no. of top k possible characters\n",
        "  '''\n",
        "\n",
        "  # tensor inputs\n",
        "  x = np.array([[char_2_int[char]]])\n",
        "  x = one_hot_encoding(x, model.chars_len)\n",
        "  inputs = torch.from_numpy(x).to(device)\n",
        "\n",
        "  # detach hidden state from history\n",
        "  h = tuple([each.data for each in h])\n",
        "  # get the output of the model\n",
        "  out, h = model(inputs, h)\n",
        "\n",
        "  # get the character probabilities\n",
        "  p = F.softmax(out, dim=1).data\n",
        "\n",
        "  p = p.cpu() # move to cpu\n",
        "\n",
        "  # get top characters\n",
        "  if top_k is None:\n",
        "      top_ch = np.arange(len(model.chars))\n",
        "  else:\n",
        "      p, top_ch = p.topk(top_k)\n",
        "      top_ch = top_ch.numpy().squeeze()\n",
        "\n",
        "  # select the likely next character with some element of randomness\n",
        "  p = p.numpy().squeeze()\n",
        "  char = np.random.choice(top_ch, p=p/p.sum())\n",
        "\n",
        "  # return the encoded value of the predicted char and the hidden state\n",
        "  return int_2_char[char], h"
      ],
      "execution_count": 0,
      "outputs": []
    },
    {
      "metadata": {
        "id": "VssUyVmLoPvp",
        "colab_type": "code",
        "colab": {}
      },
      "cell_type": "code",
      "source": [
        "def sample(model, size, prime='The', top_k=None):\n",
        "  \"\"\"method to sample or generate string fraom predicted characters\n",
        "  \n",
        "  model: model used to predict\n",
        "  size: number of characters to be predicted\n",
        "  prime: intialising sequence\n",
        "  top_k: no. of top k possible characters\"\"\"\n",
        "  \n",
        "  model = model.to(device)\n",
        "  model.eval() # eval mode\n",
        "\n",
        "  # First off, run through the prime characters\n",
        "  chars = [ch for ch in prime]\n",
        "  h = model.init_hidden(1,device)\n",
        "  for ch in prime:\n",
        "      char, h = predict(model, ch, h, top_k=top_k)\n",
        "\n",
        "  chars.append(char)\n",
        "\n",
        "  # Now pass in the previous character and get a new one\n",
        "  for ii in range(size):\n",
        "      char, h = predict(model, chars[-1], h, top_k=top_k)\n",
        "      chars.append(char)\n",
        "\n",
        "  return ''.join(chars)"
      ],
      "execution_count": 0,
      "outputs": []
    },
    {
      "metadata": {
        "id": "F0WjoAZKoWmy",
        "colab_type": "code",
        "outputId": "dfa0f7f7-e06c-4c98-e872-68e7062c9e50",
        "colab": {
          "base_uri": "https://localhost:8080/",
          "height": 102
        }
      },
      "cell_type": "code",
      "source": [
        "#testing the model\n",
        "print(sample(model, 200, prime='From', top_k=2))"
      ],
      "execution_count": 21,
      "outputs": [
        {
          "output_type": "stream",
          "text": [
            "From thy strengle she to the to the she shate she thee.\n",
            "And then to my love the songre and the strom,\n",
            "And then to my line the strengle that the world,\n",
            "Then thou shall the some then the store,\n",
            "And then so t\n"
          ],
          "name": "stdout"
        }
      ]
    },
    {
      "metadata": {
        "id": "i3o_TG6u2zT6",
        "colab_type": "text"
      },
      "cell_type": "markdown",
      "source": [
        "While there are meaningfull words in the output, there is substancial lack of structure in the content. This can be improved if the model is trained for longer time on a bigger data. Andrew Karpathy mentions in his post that he trained his model for an hour on Shakespeare's dramas to achieve the result mentioned in his post. <a href=\"http://karpathy.github.io/2015/05/21/rnn-effectiveness/\">Andrew Karpathy's post</a>"
      ]
    },
    {
      "metadata": {
        "id": "iPtzyXRsochW",
        "colab_type": "code",
        "colab": {}
      },
      "cell_type": "code",
      "source": [
        ""
      ],
      "execution_count": 0,
      "outputs": []
    }
  ]
}